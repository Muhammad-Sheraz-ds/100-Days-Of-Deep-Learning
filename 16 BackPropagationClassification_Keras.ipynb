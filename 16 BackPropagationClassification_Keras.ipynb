{
 "cells": [
  {
   "cell_type": "markdown",
   "metadata": {},
   "source": [
    "---   \n",
    " <img align=\"left\" width=\"75\" height=\"75\"  src=\"https://upload.wikimedia.org/wikipedia/en/c/c8/University_of_the_Punjab_logo.png\"> \n",
    "\n",
    "<h1 align=\"center\">Tools and Techniques for Data Science</h1>\n",
    "<h1 align=\"center\">Course: Deep Learning</h1>\n",
    "\n",
    "---\n",
    "<h1 align=\"right\">Muhammad Sheraz (Data Scientist)</h1>\n",
    "<h1 align=\"center\">Day 16 (Back Propagation Classification Keras)</h1>\n",
    "\n",
    "\n",
    "<img   src=\"../Images/nlp-approaches2.png\"  >\n"
   ]
  },
  {
   "cell_type": "code",
   "execution_count": null,
   "metadata": {},
   "outputs": [],
   "source": []
  },
  {
   "cell_type": "code",
   "execution_count": null,
   "metadata": {},
   "outputs": [],
   "source": []
  },
  {
   "cell_type": "markdown",
   "metadata": {},
   "source": [
    "# <b>1 <span style='color:#0edd57c9'>|</span> Back Propagation Algorithim</b>\n",
    "\n",
    "<img src=\"../Images/propagationmain.png\"  style=\"width: 100%;\">\n"
   ]
  },
  {
   "cell_type": "code",
   "execution_count": null,
   "metadata": {},
   "outputs": [],
   "source": []
  },
  {
   "cell_type": "code",
   "execution_count": null,
   "metadata": {},
   "outputs": [],
   "source": []
  },
  {
   "cell_type": "code",
   "execution_count": 6,
   "metadata": {
    "id": "7SyVWdpVeU64"
   },
   "outputs": [],
   "source": [
    "import numpy as np\n",
    "import pandas as pd"
   ]
  },
  {
   "cell_type": "code",
   "execution_count": 12,
   "metadata": {
    "id": "KNiTc5_5eaai"
   },
   "outputs": [],
   "source": [
    "df=pd.DataFrame([[8,8,1],[7,9,1],[6,10,0],[5,5,0]],columns=['cgpa','profile_score','placed'])"
   ]
  },
  {
   "cell_type": "code",
   "execution_count": 13,
   "metadata": {
    "colab": {
     "base_uri": "https://localhost:8080/",
     "height": 175
    },
    "id": "x5wxgOb1ei7A",
    "outputId": "d7bb37c9-2788-43bc-f864-79a123481bfd"
   },
   "outputs": [
    {
     "data": {
      "text/html": [
       "<div>\n",
       "<style scoped>\n",
       "    .dataframe tbody tr th:only-of-type {\n",
       "        vertical-align: middle;\n",
       "    }\n",
       "\n",
       "    .dataframe tbody tr th {\n",
       "        vertical-align: top;\n",
       "    }\n",
       "\n",
       "    .dataframe thead th {\n",
       "        text-align: right;\n",
       "    }\n",
       "</style>\n",
       "<table border=\"1\" class=\"dataframe\">\n",
       "  <thead>\n",
       "    <tr style=\"text-align: right;\">\n",
       "      <th></th>\n",
       "      <th>cgpa</th>\n",
       "      <th>profile_score</th>\n",
       "      <th>placed</th>\n",
       "    </tr>\n",
       "  </thead>\n",
       "  <tbody>\n",
       "    <tr>\n",
       "      <th>0</th>\n",
       "      <td>8</td>\n",
       "      <td>8</td>\n",
       "      <td>1</td>\n",
       "    </tr>\n",
       "    <tr>\n",
       "      <th>1</th>\n",
       "      <td>7</td>\n",
       "      <td>9</td>\n",
       "      <td>1</td>\n",
       "    </tr>\n",
       "    <tr>\n",
       "      <th>2</th>\n",
       "      <td>6</td>\n",
       "      <td>10</td>\n",
       "      <td>0</td>\n",
       "    </tr>\n",
       "    <tr>\n",
       "      <th>3</th>\n",
       "      <td>5</td>\n",
       "      <td>5</td>\n",
       "      <td>0</td>\n",
       "    </tr>\n",
       "  </tbody>\n",
       "</table>\n",
       "</div>"
      ],
      "text/plain": [
       "   cgpa  profile_score  placed\n",
       "0     8              8       1\n",
       "1     7              9       1\n",
       "2     6             10       0\n",
       "3     5              5       0"
      ]
     },
     "execution_count": 13,
     "metadata": {},
     "output_type": "execute_result"
    }
   ],
   "source": [
    "df.head()"
   ]
  },
  {
   "cell_type": "code",
   "execution_count": 14,
   "metadata": {
    "id": "o_icX6hEelOg"
   },
   "outputs": [],
   "source": [
    "import tensorflow\n",
    "from tensorflow import keras\n",
    "from keras import Sequential\n",
    "from keras.layers import Dense"
   ]
  },
  {
   "cell_type": "code",
   "execution_count": 15,
   "metadata": {
    "id": "H9TF79XIeox2"
   },
   "outputs": [],
   "source": [
    "model=Sequential()\n",
    "\n",
    "model.add(Dense(2,activation='sigmoid',input_dim=2))\n",
    "model.add(Dense(1,activation='sigmoid'))"
   ]
  },
  {
   "cell_type": "code",
   "execution_count": 16,
   "metadata": {
    "colab": {
     "base_uri": "https://localhost:8080/"
    },
    "id": "r7U-DztnevXA",
    "outputId": "c05a03c0-0181-4247-83ad-8cf76aaade7d"
   },
   "outputs": [
    {
     "name": "stdout",
     "output_type": "stream",
     "text": [
      "Model: \"sequential_1\"\n",
      "_________________________________________________________________\n",
      " Layer (type)                Output Shape              Param #   \n",
      "=================================================================\n",
      " dense_2 (Dense)             (None, 2)                 6         \n",
      "                                                                 \n",
      " dense_3 (Dense)             (None, 1)                 3         \n",
      "                                                                 \n",
      "=================================================================\n",
      "Total params: 9 (36.00 Byte)\n",
      "Trainable params: 9 (36.00 Byte)\n",
      "Non-trainable params: 0 (0.00 Byte)\n",
      "_________________________________________________________________\n"
     ]
    }
   ],
   "source": [
    "model.summary()"
   ]
  },
  {
   "cell_type": "code",
   "execution_count": 17,
   "metadata": {
    "colab": {
     "base_uri": "https://localhost:8080/"
    },
    "id": "mrHvRK5Gex_P",
    "outputId": "cff61e69-667e-43de-eabc-0a46f9cb66bb"
   },
   "outputs": [
    {
     "data": {
      "text/plain": [
       "[array([[-0.59916115,  1.0215029 ],\n",
       "        [ 0.7222793 ,  0.12174499]], dtype=float32),\n",
       " array([0., 0.], dtype=float32),\n",
       " array([[-0.20012403],\n",
       "        [-0.22382808]], dtype=float32),\n",
       " array([0.], dtype=float32)]"
      ]
     },
     "execution_count": 17,
     "metadata": {},
     "output_type": "execute_result"
    }
   ],
   "source": [
    "model.get_weights()"
   ]
  },
  {
   "cell_type": "code",
   "execution_count": 18,
   "metadata": {
    "id": "Kikb8_IAezpv"
   },
   "outputs": [],
   "source": [
    "new_weights=[np.array([[0.1,0.1],\n",
    "                       [0.1,0.1]],dtype=np.float32),\n",
    "             np.array([0.,0.],dtype=np.float32),\n",
    "             np.array([[0.1],[0.1]],dtype=np.float32),\n",
    "             np.array([0.],dtype=np.float32)]"
   ]
  },
  {
   "cell_type": "code",
   "execution_count": 19,
   "metadata": {
    "id": "hj02WxwQe28R"
   },
   "outputs": [],
   "source": [
    "model.set_weights(new_weights)"
   ]
  },
  {
   "cell_type": "code",
   "execution_count": 20,
   "metadata": {
    "colab": {
     "base_uri": "https://localhost:8080/"
    },
    "id": "tnNLJbKge5Uf",
    "outputId": "115bd754-e3a9-4264-8a8d-57de85608b48"
   },
   "outputs": [
    {
     "data": {
      "text/plain": [
       "[array([[0.1, 0.1],\n",
       "        [0.1, 0.1]], dtype=float32),\n",
       " array([0., 0.], dtype=float32),\n",
       " array([[0.1],\n",
       "        [0.1]], dtype=float32),\n",
       " array([0.], dtype=float32)]"
      ]
     },
     "execution_count": 20,
     "metadata": {},
     "output_type": "execute_result"
    }
   ],
   "source": [
    "model.get_weights()"
   ]
  },
  {
   "cell_type": "code",
   "execution_count": 21,
   "metadata": {
    "id": "373WEPcwe67v"
   },
   "outputs": [],
   "source": [
    "optimizer=keras.optimizers.Adam(learning_rate=0.001)\n",
    "model.compile(loss='binary_crossentropy',optimizer=optimizer)"
   ]
  },
  {
   "cell_type": "code",
   "execution_count": 27,
   "metadata": {
    "colab": {
     "base_uri": "https://localhost:8080/"
    },
    "id": "a0tn6XGLfCNQ",
    "outputId": "2e31173d-aa51-40a3-9904-b41041d09a73"
   },
   "outputs": [
    {
     "name": "stdout",
     "output_type": "stream",
     "text": [
      "Epoch 1/50\n",
      "4/4 [==============================] - 0s 6ms/step - loss: 0.6920\n",
      "Epoch 2/50\n",
      "4/4 [==============================] - 0s 3ms/step - loss: 0.6920\n",
      "Epoch 3/50\n",
      "4/4 [==============================] - 0s 4ms/step - loss: 0.6921\n",
      "Epoch 4/50\n",
      "4/4 [==============================] - 0s 4ms/step - loss: 0.6922\n",
      "Epoch 5/50\n",
      "4/4 [==============================] - 0s 4ms/step - loss: 0.6920\n",
      "Epoch 6/50\n",
      "4/4 [==============================] - 0s 5ms/step - loss: 0.6919\n",
      "Epoch 7/50\n",
      "4/4 [==============================] - 0s 5ms/step - loss: 0.6920\n",
      "Epoch 8/50\n",
      "4/4 [==============================] - 0s 4ms/step - loss: 0.6920\n",
      "Epoch 9/50\n",
      "4/4 [==============================] - 0s 4ms/step - loss: 0.6920\n",
      "Epoch 10/50\n",
      "4/4 [==============================] - 0s 5ms/step - loss: 0.6921\n",
      "Epoch 11/50\n",
      "4/4 [==============================] - 0s 4ms/step - loss: 0.6919\n",
      "Epoch 12/50\n",
      "4/4 [==============================] - 0s 4ms/step - loss: 0.6921\n",
      "Epoch 13/50\n",
      "4/4 [==============================] - 0s 4ms/step - loss: 0.6921\n",
      "Epoch 14/50\n",
      "4/4 [==============================] - 0s 4ms/step - loss: 0.6920\n",
      "Epoch 15/50\n",
      "4/4 [==============================] - 0s 4ms/step - loss: 0.6920\n",
      "Epoch 16/50\n",
      "4/4 [==============================] - 0s 4ms/step - loss: 0.6919\n",
      "Epoch 17/50\n",
      "4/4 [==============================] - 0s 4ms/step - loss: 0.6919\n",
      "Epoch 18/50\n",
      "4/4 [==============================] - 0s 4ms/step - loss: 0.6920\n",
      "Epoch 19/50\n",
      "4/4 [==============================] - 0s 4ms/step - loss: 0.6919\n",
      "Epoch 20/50\n",
      "4/4 [==============================] - 0s 5ms/step - loss: 0.6919\n",
      "Epoch 21/50\n",
      "4/4 [==============================] - 0s 4ms/step - loss: 0.6919\n",
      "Epoch 22/50\n",
      "4/4 [==============================] - 0s 5ms/step - loss: 0.6921\n",
      "Epoch 23/50\n",
      "4/4 [==============================] - 0s 4ms/step - loss: 0.6918\n",
      "Epoch 24/50\n",
      "4/4 [==============================] - 0s 4ms/step - loss: 0.6920\n",
      "Epoch 25/50\n",
      "4/4 [==============================] - 0s 4ms/step - loss: 0.6920\n",
      "Epoch 26/50\n",
      "4/4 [==============================] - 0s 4ms/step - loss: 0.6918\n",
      "Epoch 27/50\n",
      "4/4 [==============================] - 0s 4ms/step - loss: 0.6920\n",
      "Epoch 28/50\n",
      "4/4 [==============================] - 0s 4ms/step - loss: 0.6919\n",
      "Epoch 29/50\n",
      "4/4 [==============================] - 0s 4ms/step - loss: 0.6918\n",
      "Epoch 30/50\n",
      "4/4 [==============================] - 0s 4ms/step - loss: 0.6918\n",
      "Epoch 31/50\n",
      "4/4 [==============================] - 0s 4ms/step - loss: 0.6919\n",
      "Epoch 32/50\n",
      "4/4 [==============================] - 0s 4ms/step - loss: 0.6920\n",
      "Epoch 33/50\n",
      "4/4 [==============================] - 0s 4ms/step - loss: 0.6918\n",
      "Epoch 34/50\n",
      "4/4 [==============================] - 0s 4ms/step - loss: 0.6918\n",
      "Epoch 35/50\n",
      "4/4 [==============================] - 0s 4ms/step - loss: 0.6918\n",
      "Epoch 36/50\n",
      "4/4 [==============================] - 0s 5ms/step - loss: 0.6918\n",
      "Epoch 37/50\n",
      "4/4 [==============================] - 0s 4ms/step - loss: 0.6918\n",
      "Epoch 38/50\n",
      "4/4 [==============================] - 0s 4ms/step - loss: 0.6918\n",
      "Epoch 39/50\n",
      "4/4 [==============================] - 0s 4ms/step - loss: 0.6919\n",
      "Epoch 40/50\n",
      "4/4 [==============================] - 0s 5ms/step - loss: 0.6918\n",
      "Epoch 41/50\n",
      "4/4 [==============================] - 0s 4ms/step - loss: 0.6917\n",
      "Epoch 42/50\n",
      "4/4 [==============================] - 0s 4ms/step - loss: 0.6918\n",
      "Epoch 43/50\n",
      "4/4 [==============================] - 0s 14ms/step - loss: 0.6918\n",
      "Epoch 44/50\n",
      "4/4 [==============================] - 0s 5ms/step - loss: 0.6920\n",
      "Epoch 45/50\n",
      "4/4 [==============================] - 0s 4ms/step - loss: 0.6917\n",
      "Epoch 46/50\n",
      "4/4 [==============================] - 0s 5ms/step - loss: 0.6917\n",
      "Epoch 47/50\n",
      "4/4 [==============================] - 0s 4ms/step - loss: 0.6919\n",
      "Epoch 48/50\n",
      "4/4 [==============================] - 0s 4ms/step - loss: 0.6917\n",
      "Epoch 49/50\n",
      "4/4 [==============================] - 0s 4ms/step - loss: 0.6919\n",
      "Epoch 50/50\n",
      "4/4 [==============================] - 0s 3ms/step - loss: 0.6918\n"
     ]
    },
    {
     "data": {
      "text/plain": [
       "<keras.src.callbacks.History at 0x1448bc0e290>"
      ]
     },
     "execution_count": 27,
     "metadata": {},
     "output_type": "execute_result"
    }
   ],
   "source": [
    "model.fit(df.iloc[:,0:-1].values,df['placed'].values,epochs=50,verbose=1,batch_size=1)"
   ]
  },
  {
   "cell_type": "code",
   "execution_count": 28,
   "metadata": {
    "colab": {
     "base_uri": "https://localhost:8080/"
    },
    "id": "DvkQ8UZZfH5u",
    "outputId": "18f976ee-b39e-4a08-e1bf-7d94bf98a545"
   },
   "outputs": [
    {
     "data": {
      "text/plain": [
       "[array([[0.1199335 , 0.1199335 ],\n",
       "        [0.05949751, 0.05949751]], dtype=float32),\n",
       " array([-0.10433333, -0.10433333], dtype=float32),\n",
       " array([[0.08238374],\n",
       "        [0.08238374]], dtype=float32),\n",
       " array([-0.04462083], dtype=float32)]"
      ]
     },
     "execution_count": 28,
     "metadata": {},
     "output_type": "execute_result"
    }
   ],
   "source": [
    "model.get_weights()"
   ]
  },
  {
   "cell_type": "code",
   "execution_count": null,
   "metadata": {
    "id": "oQLmH1VKfLi_"
   },
   "outputs": [],
   "source": []
  },
  {
   "cell_type": "code",
   "execution_count": null,
   "metadata": {},
   "outputs": [],
   "source": []
  }
 ],
 "metadata": {
  "colab": {
   "provenance": []
  },
  "kernelspec": {
   "display_name": "Python 3 (ipykernel)",
   "language": "python",
   "name": "python3"
  },
  "language_info": {
   "codemirror_mode": {
    "name": "ipython",
    "version": 3
   },
   "file_extension": ".py",
   "mimetype": "text/x-python",
   "name": "python",
   "nbconvert_exporter": "python",
   "pygments_lexer": "ipython3",
   "version": "3.10.6"
  }
 },
 "nbformat": 4,
 "nbformat_minor": 4
}
