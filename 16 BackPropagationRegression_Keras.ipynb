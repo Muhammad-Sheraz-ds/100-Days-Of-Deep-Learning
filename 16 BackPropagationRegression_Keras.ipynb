{
 "cells": [
  {
   "cell_type": "markdown",
   "metadata": {},
   "source": [
    "# <b>1 <span style='color:#0edd57c9'>|</span> Back Propagation Algorithim</b>\n",
    "\n",
    "<img src=\"../Images/propagationmain.png\"  style=\"width: 100%;\">\n"
   ]
  },
  {
   "cell_type": "code",
   "execution_count": null,
   "metadata": {},
   "outputs": [],
   "source": []
  },
  {
   "cell_type": "code",
   "execution_count": 1,
   "metadata": {
    "id": "sbR4_XpVaoUF"
   },
   "outputs": [],
   "source": [
    "import numpy as np\n",
    "import pandas as pd"
   ]
  },
  {
   "cell_type": "code",
   "execution_count": 2,
   "metadata": {
    "id": "70v8X2Nwax5s"
   },
   "outputs": [],
   "source": [
    "df=pd.DataFrame([[8,8,4],[7,9,5],[6,10,6],[5,12,7]],columns=['cgpa','profile_score','lpa'])"
   ]
  },
  {
   "cell_type": "code",
   "execution_count": 3,
   "metadata": {
    "colab": {
     "base_uri": "https://localhost:8080/",
     "height": 175
    },
    "id": "oRH2botUbDax",
    "outputId": "d86dcdeb-3b9d-4854-e758-3901400fb404"
   },
   "outputs": [
    {
     "data": {
      "text/html": [
       "<div>\n",
       "<style scoped>\n",
       "    .dataframe tbody tr th:only-of-type {\n",
       "        vertical-align: middle;\n",
       "    }\n",
       "\n",
       "    .dataframe tbody tr th {\n",
       "        vertical-align: top;\n",
       "    }\n",
       "\n",
       "    .dataframe thead th {\n",
       "        text-align: right;\n",
       "    }\n",
       "</style>\n",
       "<table border=\"1\" class=\"dataframe\">\n",
       "  <thead>\n",
       "    <tr style=\"text-align: right;\">\n",
       "      <th></th>\n",
       "      <th>cgpa</th>\n",
       "      <th>profile_score</th>\n",
       "      <th>lpa</th>\n",
       "    </tr>\n",
       "  </thead>\n",
       "  <tbody>\n",
       "    <tr>\n",
       "      <th>0</th>\n",
       "      <td>8</td>\n",
       "      <td>8</td>\n",
       "      <td>4</td>\n",
       "    </tr>\n",
       "    <tr>\n",
       "      <th>1</th>\n",
       "      <td>7</td>\n",
       "      <td>9</td>\n",
       "      <td>5</td>\n",
       "    </tr>\n",
       "    <tr>\n",
       "      <th>2</th>\n",
       "      <td>6</td>\n",
       "      <td>10</td>\n",
       "      <td>6</td>\n",
       "    </tr>\n",
       "    <tr>\n",
       "      <th>3</th>\n",
       "      <td>5</td>\n",
       "      <td>12</td>\n",
       "      <td>7</td>\n",
       "    </tr>\n",
       "  </tbody>\n",
       "</table>\n",
       "</div>"
      ],
      "text/plain": [
       "   cgpa  profile_score  lpa\n",
       "0     8              8    4\n",
       "1     7              9    5\n",
       "2     6             10    6\n",
       "3     5             12    7"
      ]
     },
     "execution_count": 3,
     "metadata": {},
     "output_type": "execute_result"
    }
   ],
   "source": [
    "df"
   ]
  },
  {
   "cell_type": "code",
   "execution_count": 4,
   "metadata": {
    "id": "BHf4p1txbEdR"
   },
   "outputs": [
    {
     "name": "stdout",
     "output_type": "stream",
     "text": [
      "WARNING:tensorflow:From C:\\Users\\LENOVO\\AppData\\Roaming\\Python\\Python310\\site-packages\\keras\\src\\losses.py:2976: The name tf.losses.sparse_softmax_cross_entropy is deprecated. Please use tf.compat.v1.losses.sparse_softmax_cross_entropy instead.\n",
      "\n"
     ]
    }
   ],
   "source": [
    "import tensorflow\n",
    "from tensorflow import keras\n",
    "from keras import Sequential\n",
    "from keras.layers import Dense"
   ]
  },
  {
   "cell_type": "code",
   "execution_count": 5,
   "metadata": {
    "id": "NntVwc8obO5i"
   },
   "outputs": [
    {
     "name": "stdout",
     "output_type": "stream",
     "text": [
      "WARNING:tensorflow:From C:\\Users\\LENOVO\\AppData\\Roaming\\Python\\Python310\\site-packages\\keras\\src\\backend.py:873: The name tf.get_default_graph is deprecated. Please use tf.compat.v1.get_default_graph instead.\n",
      "\n"
     ]
    }
   ],
   "source": [
    "model=Sequential()\n",
    "\n",
    "model.add(Dense(2,activation='linear',input_dim=2))\n",
    "model.add(Dense(1,activation='linear'))"
   ]
  },
  {
   "cell_type": "code",
   "execution_count": 6,
   "metadata": {
    "colab": {
     "base_uri": "https://localhost:8080/"
    },
    "id": "3noG5zkAbbWx",
    "outputId": "8e76b44c-917c-4c7d-dcb3-cc45ed0e30ed"
   },
   "outputs": [
    {
     "name": "stdout",
     "output_type": "stream",
     "text": [
      "Model: \"sequential\"\n",
      "_________________________________________________________________\n",
      " Layer (type)                Output Shape              Param #   \n",
      "=================================================================\n",
      " dense (Dense)               (None, 2)                 6         \n",
      "                                                                 \n",
      " dense_1 (Dense)             (None, 1)                 3         \n",
      "                                                                 \n",
      "=================================================================\n",
      "Total params: 9 (36.00 Byte)\n",
      "Trainable params: 9 (36.00 Byte)\n",
      "Non-trainable params: 0 (0.00 Byte)\n",
      "_________________________________________________________________\n"
     ]
    }
   ],
   "source": [
    "model.summary()"
   ]
  },
  {
   "cell_type": "code",
   "execution_count": 7,
   "metadata": {
    "colab": {
     "base_uri": "https://localhost:8080/"
    },
    "id": "fMYkO5bRbdeQ",
    "outputId": "1e02a0c8-563c-410d-9f39-ecaebc67eed0"
   },
   "outputs": [
    {
     "data": {
      "text/plain": [
       "[array([[0.77433133, 0.2740178 ],\n",
       "        [0.28804266, 1.078322  ]], dtype=float32),\n",
       " array([0., 0.], dtype=float32),\n",
       " array([[-0.21713042],\n",
       "        [ 0.48922074]], dtype=float32),\n",
       " array([0.], dtype=float32)]"
      ]
     },
     "execution_count": 7,
     "metadata": {},
     "output_type": "execute_result"
    }
   ],
   "source": [
    "model.get_weights()"
   ]
  },
  {
   "cell_type": "code",
   "execution_count": 8,
   "metadata": {
    "id": "M2HydDw9bhRh"
   },
   "outputs": [],
   "source": [
    "new_weights=[np.array([[0.1,0.1],\n",
    "                       [0.1,0.1]],dtype=np.float32),\n",
    "             np.array([0.,0.],dtype=np.float32),\n",
    "             np.array([[0.1],[0.1]],dtype=np.float32),\n",
    "             np.array([0.],dtype=np.float32)]"
   ]
  },
  {
   "cell_type": "code",
   "execution_count": 9,
   "metadata": {
    "id": "ydE9zfHLcQIC"
   },
   "outputs": [],
   "source": [
    "model.set_weights(new_weights)"
   ]
  },
  {
   "cell_type": "code",
   "execution_count": 10,
   "metadata": {
    "colab": {
     "base_uri": "https://localhost:8080/"
    },
    "id": "IWsvE4DGdfix",
    "outputId": "8cf138f3-2fd4-4db8-b3d0-20990fb52232"
   },
   "outputs": [
    {
     "data": {
      "text/plain": [
       "[array([[0.1, 0.1],\n",
       "        [0.1, 0.1]], dtype=float32),\n",
       " array([0., 0.], dtype=float32),\n",
       " array([[0.1],\n",
       "        [0.1]], dtype=float32),\n",
       " array([0.], dtype=float32)]"
      ]
     },
     "execution_count": 10,
     "metadata": {},
     "output_type": "execute_result"
    }
   ],
   "source": [
    "model.get_weights()"
   ]
  },
  {
   "cell_type": "code",
   "execution_count": 11,
   "metadata": {
    "id": "Dw5IIjI8di3R"
   },
   "outputs": [],
   "source": [
    "optimizer=keras.optimizers.Adam(learning_rate=0.001)\n",
    "model.compile(loss='mean_squared_error',optimizer=optimizer)"
   ]
  },
  {
   "cell_type": "code",
   "execution_count": 12,
   "metadata": {
    "colab": {
     "base_uri": "https://localhost:8080/"
    },
    "id": "Yy94l6aIdvpA",
    "outputId": "8e72263d-99a2-4ea4-dd8e-acc25395206a"
   },
   "outputs": [
    {
     "name": "stdout",
     "output_type": "stream",
     "text": [
      "Epoch 1/75\n",
      "WARNING:tensorflow:From C:\\Users\\LENOVO\\AppData\\Roaming\\Python\\Python310\\site-packages\\keras\\src\\utils\\tf_utils.py:492: The name tf.ragged.RaggedTensorValue is deprecated. Please use tf.compat.v1.ragged.RaggedTensorValue instead.\n",
      "\n",
      "4/4 [==============================] - 2s 11ms/step - loss: 27.8898\n",
      "Epoch 2/75\n",
      "4/4 [==============================] - 0s 6ms/step - loss: 27.5918\n",
      "Epoch 3/75\n",
      "4/4 [==============================] - 0s 5ms/step - loss: 27.2448\n",
      "Epoch 4/75\n",
      "4/4 [==============================] - 0s 5ms/step - loss: 26.8998\n",
      "Epoch 5/75\n",
      "4/4 [==============================] - 0s 5ms/step - loss: 26.5824\n",
      "Epoch 6/75\n",
      "4/4 [==============================] - 0s 7ms/step - loss: 26.2195\n",
      "Epoch 7/75\n",
      "4/4 [==============================] - 0s 5ms/step - loss: 25.8409\n",
      "Epoch 8/75\n",
      "4/4 [==============================] - 0s 4ms/step - loss: 25.4617\n",
      "Epoch 9/75\n",
      "4/4 [==============================] - 0s 5ms/step - loss: 25.0621\n",
      "Epoch 10/75\n",
      "4/4 [==============================] - 0s 5ms/step - loss: 24.6860\n",
      "Epoch 11/75\n",
      "4/4 [==============================] - 0s 11ms/step - loss: 24.2440\n",
      "Epoch 12/75\n",
      "4/4 [==============================] - 0s 5ms/step - loss: 23.8123\n",
      "Epoch 13/75\n",
      "4/4 [==============================] - 0s 7ms/step - loss: 23.4035\n",
      "Epoch 14/75\n",
      "4/4 [==============================] - 0s 4ms/step - loss: 22.9515\n",
      "Epoch 15/75\n",
      "4/4 [==============================] - 0s 5ms/step - loss: 22.4685\n",
      "Epoch 16/75\n",
      "4/4 [==============================] - 0s 4ms/step - loss: 22.0196\n",
      "Epoch 17/75\n",
      "4/4 [==============================] - 0s 4ms/step - loss: 21.5622\n",
      "Epoch 18/75\n",
      "4/4 [==============================] - 0s 5ms/step - loss: 21.0624\n",
      "Epoch 19/75\n",
      "4/4 [==============================] - 0s 4ms/step - loss: 20.6029\n",
      "Epoch 20/75\n",
      "4/4 [==============================] - 0s 5ms/step - loss: 20.0860\n",
      "Epoch 21/75\n",
      "4/4 [==============================] - 0s 5ms/step - loss: 19.5909\n",
      "Epoch 22/75\n",
      "4/4 [==============================] - 0s 5ms/step - loss: 19.1002\n",
      "Epoch 23/75\n",
      "4/4 [==============================] - 0s 4ms/step - loss: 18.5680\n",
      "Epoch 24/75\n",
      "4/4 [==============================] - 0s 4ms/step - loss: 18.0491\n",
      "Epoch 25/75\n",
      "4/4 [==============================] - 0s 4ms/step - loss: 17.4885\n",
      "Epoch 26/75\n",
      "4/4 [==============================] - 0s 5ms/step - loss: 16.9753\n",
      "Epoch 27/75\n",
      "4/4 [==============================] - 0s 5ms/step - loss: 16.5131\n",
      "Epoch 28/75\n",
      "4/4 [==============================] - 0s 5ms/step - loss: 15.9674\n",
      "Epoch 29/75\n",
      "4/4 [==============================] - 0s 5ms/step - loss: 15.4038\n",
      "Epoch 30/75\n",
      "4/4 [==============================] - 0s 5ms/step - loss: 14.8820\n",
      "Epoch 31/75\n",
      "4/4 [==============================] - 0s 5ms/step - loss: 14.3653\n",
      "Epoch 32/75\n",
      "4/4 [==============================] - 0s 4ms/step - loss: 13.8575\n",
      "Epoch 33/75\n",
      "4/4 [==============================] - 0s 5ms/step - loss: 13.3460\n",
      "Epoch 34/75\n",
      "4/4 [==============================] - 0s 3ms/step - loss: 12.8537\n",
      "Epoch 35/75\n",
      "4/4 [==============================] - 0s 4ms/step - loss: 12.3130\n",
      "Epoch 36/75\n",
      "4/4 [==============================] - 0s 5ms/step - loss: 11.8036\n",
      "Epoch 37/75\n",
      "4/4 [==============================] - 0s 4ms/step - loss: 11.2996\n",
      "Epoch 38/75\n",
      "4/4 [==============================] - 0s 5ms/step - loss: 10.8020\n",
      "Epoch 39/75\n",
      "4/4 [==============================] - 0s 5ms/step - loss: 10.3748\n",
      "Epoch 40/75\n",
      "4/4 [==============================] - 0s 5ms/step - loss: 9.8797\n",
      "Epoch 41/75\n",
      "4/4 [==============================] - 0s 5ms/step - loss: 9.4677\n",
      "Epoch 42/75\n",
      "4/4 [==============================] - 0s 5ms/step - loss: 8.9749\n",
      "Epoch 43/75\n",
      "4/4 [==============================] - 0s 4ms/step - loss: 8.5020\n",
      "Epoch 44/75\n",
      "4/4 [==============================] - 0s 5ms/step - loss: 8.1471\n",
      "Epoch 45/75\n",
      "4/4 [==============================] - 0s 5ms/step - loss: 7.6802\n",
      "Epoch 46/75\n",
      "4/4 [==============================] - 0s 5ms/step - loss: 7.3059\n",
      "Epoch 47/75\n",
      "4/4 [==============================] - 0s 5ms/step - loss: 6.9787\n",
      "Epoch 48/75\n",
      "4/4 [==============================] - 0s 7ms/step - loss: 6.5336\n",
      "Epoch 49/75\n",
      "4/4 [==============================] - 0s 5ms/step - loss: 6.2303\n",
      "Epoch 50/75\n",
      "4/4 [==============================] - 0s 5ms/step - loss: 5.8752\n",
      "Epoch 51/75\n",
      "4/4 [==============================] - 0s 4ms/step - loss: 5.5496\n",
      "Epoch 52/75\n",
      "4/4 [==============================] - 0s 3ms/step - loss: 5.2053\n",
      "Epoch 53/75\n",
      "4/4 [==============================] - 0s 4ms/step - loss: 4.8934\n",
      "Epoch 54/75\n",
      "4/4 [==============================] - 0s 5ms/step - loss: 4.6301\n",
      "Epoch 55/75\n",
      "4/4 [==============================] - 0s 4ms/step - loss: 4.3127\n",
      "Epoch 56/75\n",
      "4/4 [==============================] - 0s 4ms/step - loss: 4.0976\n",
      "Epoch 57/75\n",
      "4/4 [==============================] - 0s 4ms/step - loss: 3.8501\n",
      "Epoch 58/75\n",
      "4/4 [==============================] - 0s 4ms/step - loss: 3.6256\n",
      "Epoch 59/75\n",
      "4/4 [==============================] - 0s 4ms/step - loss: 3.4260\n",
      "Epoch 60/75\n",
      "4/4 [==============================] - 0s 4ms/step - loss: 3.2300\n",
      "Epoch 61/75\n",
      "4/4 [==============================] - 0s 3ms/step - loss: 3.0436\n",
      "Epoch 62/75\n",
      "4/4 [==============================] - 0s 4ms/step - loss: 2.8751\n",
      "Epoch 63/75\n",
      "4/4 [==============================] - 0s 4ms/step - loss: 2.6678\n",
      "Epoch 64/75\n",
      "4/4 [==============================] - 0s 3ms/step - loss: 2.5608\n",
      "Epoch 65/75\n",
      "4/4 [==============================] - 0s 3ms/step - loss: 2.3687\n",
      "Epoch 66/75\n",
      "4/4 [==============================] - 0s 4ms/step - loss: 2.2745\n",
      "Epoch 67/75\n",
      "4/4 [==============================] - 0s 5ms/step - loss: 2.1383\n",
      "Epoch 68/75\n",
      "4/4 [==============================] - 0s 3ms/step - loss: 2.0653\n",
      "Epoch 69/75\n",
      "4/4 [==============================] - 0s 5ms/step - loss: 1.9169\n",
      "Epoch 70/75\n",
      "4/4 [==============================] - 0s 4ms/step - loss: 1.8400\n",
      "Epoch 71/75\n",
      "4/4 [==============================] - 0s 2ms/step - loss: 1.7579\n",
      "Epoch 72/75\n",
      "4/4 [==============================] - 0s 3ms/step - loss: 1.6976\n",
      "Epoch 73/75\n",
      "4/4 [==============================] - 0s 6ms/step - loss: 1.6387\n",
      "Epoch 74/75\n",
      "4/4 [==============================] - 0s 5ms/step - loss: 1.5321\n",
      "Epoch 75/75\n",
      "4/4 [==============================] - 0s 5ms/step - loss: 1.5087\n"
     ]
    },
    {
     "data": {
      "text/plain": [
       "<keras.src.callbacks.History at 0x1ad588565c0>"
      ]
     },
     "execution_count": 12,
     "metadata": {},
     "output_type": "execute_result"
    }
   ],
   "source": [
    "model.fit(df.iloc[:,0:-1].values,df['lpa'].values,epochs=75,verbose=1,batch_size=1)"
   ]
  },
  {
   "cell_type": "code",
   "execution_count": 13,
   "metadata": {
    "colab": {
     "base_uri": "https://localhost:8080/"
    },
    "id": "WgNSb6Vzd8Qx",
    "outputId": "0ec070b6-b85c-49fe-e625-3ffe9a7a989f"
   },
   "outputs": [
    {
     "data": {
      "text/plain": [
       "[array([[0.37373608, 0.37373608],\n",
       "        [0.36550543, 0.36550543]], dtype=float32),\n",
       " array([0.27232358, 0.27232358], dtype=float32),\n",
       " array([[0.37290594],\n",
       "        [0.37290594]], dtype=float32),\n",
       " array([0.204711], dtype=float32)]"
      ]
     },
     "execution_count": 13,
     "metadata": {},
     "output_type": "execute_result"
    }
   ],
   "source": [
    "model.get_weights()"
   ]
  },
  {
   "cell_type": "code",
   "execution_count": null,
   "metadata": {
    "id": "xuhzafypeAmh"
   },
   "outputs": [],
   "source": []
  }
 ],
 "metadata": {
  "colab": {
   "provenance": []
  },
  "kernelspec": {
   "display_name": "Python 3 (ipykernel)",
   "language": "python",
   "name": "python3"
  },
  "language_info": {
   "codemirror_mode": {
    "name": "ipython",
    "version": 3
   },
   "file_extension": ".py",
   "mimetype": "text/x-python",
   "name": "python",
   "nbconvert_exporter": "python",
   "pygments_lexer": "ipython3",
   "version": "3.10.6"
  }
 },
 "nbformat": 4,
 "nbformat_minor": 4
}
