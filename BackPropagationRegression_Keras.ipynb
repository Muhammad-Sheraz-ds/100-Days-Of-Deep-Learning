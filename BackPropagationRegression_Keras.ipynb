{
  "nbformat": 4,
  "nbformat_minor": 0,
  "metadata": {
    "colab": {
      "provenance": []
    },
    "kernelspec": {
      "name": "python3",
      "display_name": "Python 3"
    },
    "language_info": {
      "name": "python"
    }
  },
  "cells": [
    {
      "cell_type": "code",
      "execution_count": 1,
      "metadata": {
        "id": "sbR4_XpVaoUF"
      },
      "outputs": [],
      "source": [
        "import numpy as np\n",
        "import pandas as pd"
      ]
    },
    {
      "cell_type": "code",
      "source": [
        "df=pd.DataFrame([[8,8,4],[7,9,5],[6,10,6],[5,12,7]],columns=['cgpa','profile_score','lpa'])"
      ],
      "metadata": {
        "id": "70v8X2Nwax5s"
      },
      "execution_count": 2,
      "outputs": []
    },
    {
      "cell_type": "code",
      "source": [
        "df"
      ],
      "metadata": {
        "colab": {
          "base_uri": "https://localhost:8080/",
          "height": 175
        },
        "id": "oRH2botUbDax",
        "outputId": "d86dcdeb-3b9d-4854-e758-3901400fb404"
      },
      "execution_count": 3,
      "outputs": [
        {
          "output_type": "execute_result",
          "data": {
            "text/plain": [
              "   cgpa  profile_score  lpa\n",
              "0     8              8    4\n",
              "1     7              9    5\n",
              "2     6             10    6\n",
              "3     5             12    7"
            ],
            "text/html": [
              "\n",
              "  <div id=\"df-9c670e0c-c57f-4dc4-993e-2a7a9a515102\" class=\"colab-df-container\">\n",
              "    <div>\n",
              "<style scoped>\n",
              "    .dataframe tbody tr th:only-of-type {\n",
              "        vertical-align: middle;\n",
              "    }\n",
              "\n",
              "    .dataframe tbody tr th {\n",
              "        vertical-align: top;\n",
              "    }\n",
              "\n",
              "    .dataframe thead th {\n",
              "        text-align: right;\n",
              "    }\n",
              "</style>\n",
              "<table border=\"1\" class=\"dataframe\">\n",
              "  <thead>\n",
              "    <tr style=\"text-align: right;\">\n",
              "      <th></th>\n",
              "      <th>cgpa</th>\n",
              "      <th>profile_score</th>\n",
              "      <th>lpa</th>\n",
              "    </tr>\n",
              "  </thead>\n",
              "  <tbody>\n",
              "    <tr>\n",
              "      <th>0</th>\n",
              "      <td>8</td>\n",
              "      <td>8</td>\n",
              "      <td>4</td>\n",
              "    </tr>\n",
              "    <tr>\n",
              "      <th>1</th>\n",
              "      <td>7</td>\n",
              "      <td>9</td>\n",
              "      <td>5</td>\n",
              "    </tr>\n",
              "    <tr>\n",
              "      <th>2</th>\n",
              "      <td>6</td>\n",
              "      <td>10</td>\n",
              "      <td>6</td>\n",
              "    </tr>\n",
              "    <tr>\n",
              "      <th>3</th>\n",
              "      <td>5</td>\n",
              "      <td>12</td>\n",
              "      <td>7</td>\n",
              "    </tr>\n",
              "  </tbody>\n",
              "</table>\n",
              "</div>\n",
              "    <div class=\"colab-df-buttons\">\n",
              "\n",
              "  <div class=\"colab-df-container\">\n",
              "    <button class=\"colab-df-convert\" onclick=\"convertToInteractive('df-9c670e0c-c57f-4dc4-993e-2a7a9a515102')\"\n",
              "            title=\"Convert this dataframe to an interactive table.\"\n",
              "            style=\"display:none;\">\n",
              "\n",
              "  <svg xmlns=\"http://www.w3.org/2000/svg\" height=\"24px\" viewBox=\"0 -960 960 960\">\n",
              "    <path d=\"M120-120v-720h720v720H120Zm60-500h600v-160H180v160Zm220 220h160v-160H400v160Zm0 220h160v-160H400v160ZM180-400h160v-160H180v160Zm440 0h160v-160H620v160ZM180-180h160v-160H180v160Zm440 0h160v-160H620v160Z\"/>\n",
              "  </svg>\n",
              "    </button>\n",
              "\n",
              "  <style>\n",
              "    .colab-df-container {\n",
              "      display:flex;\n",
              "      gap: 12px;\n",
              "    }\n",
              "\n",
              "    .colab-df-convert {\n",
              "      background-color: #E8F0FE;\n",
              "      border: none;\n",
              "      border-radius: 50%;\n",
              "      cursor: pointer;\n",
              "      display: none;\n",
              "      fill: #1967D2;\n",
              "      height: 32px;\n",
              "      padding: 0 0 0 0;\n",
              "      width: 32px;\n",
              "    }\n",
              "\n",
              "    .colab-df-convert:hover {\n",
              "      background-color: #E2EBFA;\n",
              "      box-shadow: 0px 1px 2px rgba(60, 64, 67, 0.3), 0px 1px 3px 1px rgba(60, 64, 67, 0.15);\n",
              "      fill: #174EA6;\n",
              "    }\n",
              "\n",
              "    .colab-df-buttons div {\n",
              "      margin-bottom: 4px;\n",
              "    }\n",
              "\n",
              "    [theme=dark] .colab-df-convert {\n",
              "      background-color: #3B4455;\n",
              "      fill: #D2E3FC;\n",
              "    }\n",
              "\n",
              "    [theme=dark] .colab-df-convert:hover {\n",
              "      background-color: #434B5C;\n",
              "      box-shadow: 0px 1px 3px 1px rgba(0, 0, 0, 0.15);\n",
              "      filter: drop-shadow(0px 1px 2px rgba(0, 0, 0, 0.3));\n",
              "      fill: #FFFFFF;\n",
              "    }\n",
              "  </style>\n",
              "\n",
              "    <script>\n",
              "      const buttonEl =\n",
              "        document.querySelector('#df-9c670e0c-c57f-4dc4-993e-2a7a9a515102 button.colab-df-convert');\n",
              "      buttonEl.style.display =\n",
              "        google.colab.kernel.accessAllowed ? 'block' : 'none';\n",
              "\n",
              "      async function convertToInteractive(key) {\n",
              "        const element = document.querySelector('#df-9c670e0c-c57f-4dc4-993e-2a7a9a515102');\n",
              "        const dataTable =\n",
              "          await google.colab.kernel.invokeFunction('convertToInteractive',\n",
              "                                                    [key], {});\n",
              "        if (!dataTable) return;\n",
              "\n",
              "        const docLinkHtml = 'Like what you see? Visit the ' +\n",
              "          '<a target=\"_blank\" href=https://colab.research.google.com/notebooks/data_table.ipynb>data table notebook</a>'\n",
              "          + ' to learn more about interactive tables.';\n",
              "        element.innerHTML = '';\n",
              "        dataTable['output_type'] = 'display_data';\n",
              "        await google.colab.output.renderOutput(dataTable, element);\n",
              "        const docLink = document.createElement('div');\n",
              "        docLink.innerHTML = docLinkHtml;\n",
              "        element.appendChild(docLink);\n",
              "      }\n",
              "    </script>\n",
              "  </div>\n",
              "\n",
              "\n",
              "<div id=\"df-cf810a36-79f5-4f20-840e-2e5786e62a9b\">\n",
              "  <button class=\"colab-df-quickchart\" onclick=\"quickchart('df-cf810a36-79f5-4f20-840e-2e5786e62a9b')\"\n",
              "            title=\"Suggest charts\"\n",
              "            style=\"display:none;\">\n",
              "\n",
              "<svg xmlns=\"http://www.w3.org/2000/svg\" height=\"24px\"viewBox=\"0 0 24 24\"\n",
              "     width=\"24px\">\n",
              "    <g>\n",
              "        <path d=\"M19 3H5c-1.1 0-2 .9-2 2v14c0 1.1.9 2 2 2h14c1.1 0 2-.9 2-2V5c0-1.1-.9-2-2-2zM9 17H7v-7h2v7zm4 0h-2V7h2v10zm4 0h-2v-4h2v4z\"/>\n",
              "    </g>\n",
              "</svg>\n",
              "  </button>\n",
              "\n",
              "<style>\n",
              "  .colab-df-quickchart {\n",
              "      --bg-color: #E8F0FE;\n",
              "      --fill-color: #1967D2;\n",
              "      --hover-bg-color: #E2EBFA;\n",
              "      --hover-fill-color: #174EA6;\n",
              "      --disabled-fill-color: #AAA;\n",
              "      --disabled-bg-color: #DDD;\n",
              "  }\n",
              "\n",
              "  [theme=dark] .colab-df-quickchart {\n",
              "      --bg-color: #3B4455;\n",
              "      --fill-color: #D2E3FC;\n",
              "      --hover-bg-color: #434B5C;\n",
              "      --hover-fill-color: #FFFFFF;\n",
              "      --disabled-bg-color: #3B4455;\n",
              "      --disabled-fill-color: #666;\n",
              "  }\n",
              "\n",
              "  .colab-df-quickchart {\n",
              "    background-color: var(--bg-color);\n",
              "    border: none;\n",
              "    border-radius: 50%;\n",
              "    cursor: pointer;\n",
              "    display: none;\n",
              "    fill: var(--fill-color);\n",
              "    height: 32px;\n",
              "    padding: 0;\n",
              "    width: 32px;\n",
              "  }\n",
              "\n",
              "  .colab-df-quickchart:hover {\n",
              "    background-color: var(--hover-bg-color);\n",
              "    box-shadow: 0 1px 2px rgba(60, 64, 67, 0.3), 0 1px 3px 1px rgba(60, 64, 67, 0.15);\n",
              "    fill: var(--button-hover-fill-color);\n",
              "  }\n",
              "\n",
              "  .colab-df-quickchart-complete:disabled,\n",
              "  .colab-df-quickchart-complete:disabled:hover {\n",
              "    background-color: var(--disabled-bg-color);\n",
              "    fill: var(--disabled-fill-color);\n",
              "    box-shadow: none;\n",
              "  }\n",
              "\n",
              "  .colab-df-spinner {\n",
              "    border: 2px solid var(--fill-color);\n",
              "    border-color: transparent;\n",
              "    border-bottom-color: var(--fill-color);\n",
              "    animation:\n",
              "      spin 1s steps(1) infinite;\n",
              "  }\n",
              "\n",
              "  @keyframes spin {\n",
              "    0% {\n",
              "      border-color: transparent;\n",
              "      border-bottom-color: var(--fill-color);\n",
              "      border-left-color: var(--fill-color);\n",
              "    }\n",
              "    20% {\n",
              "      border-color: transparent;\n",
              "      border-left-color: var(--fill-color);\n",
              "      border-top-color: var(--fill-color);\n",
              "    }\n",
              "    30% {\n",
              "      border-color: transparent;\n",
              "      border-left-color: var(--fill-color);\n",
              "      border-top-color: var(--fill-color);\n",
              "      border-right-color: var(--fill-color);\n",
              "    }\n",
              "    40% {\n",
              "      border-color: transparent;\n",
              "      border-right-color: var(--fill-color);\n",
              "      border-top-color: var(--fill-color);\n",
              "    }\n",
              "    60% {\n",
              "      border-color: transparent;\n",
              "      border-right-color: var(--fill-color);\n",
              "    }\n",
              "    80% {\n",
              "      border-color: transparent;\n",
              "      border-right-color: var(--fill-color);\n",
              "      border-bottom-color: var(--fill-color);\n",
              "    }\n",
              "    90% {\n",
              "      border-color: transparent;\n",
              "      border-bottom-color: var(--fill-color);\n",
              "    }\n",
              "  }\n",
              "</style>\n",
              "\n",
              "  <script>\n",
              "    async function quickchart(key) {\n",
              "      const quickchartButtonEl =\n",
              "        document.querySelector('#' + key + ' button');\n",
              "      quickchartButtonEl.disabled = true;  // To prevent multiple clicks.\n",
              "      quickchartButtonEl.classList.add('colab-df-spinner');\n",
              "      try {\n",
              "        const charts = await google.colab.kernel.invokeFunction(\n",
              "            'suggestCharts', [key], {});\n",
              "      } catch (error) {\n",
              "        console.error('Error during call to suggestCharts:', error);\n",
              "      }\n",
              "      quickchartButtonEl.classList.remove('colab-df-spinner');\n",
              "      quickchartButtonEl.classList.add('colab-df-quickchart-complete');\n",
              "    }\n",
              "    (() => {\n",
              "      let quickchartButtonEl =\n",
              "        document.querySelector('#df-cf810a36-79f5-4f20-840e-2e5786e62a9b button');\n",
              "      quickchartButtonEl.style.display =\n",
              "        google.colab.kernel.accessAllowed ? 'block' : 'none';\n",
              "    })();\n",
              "  </script>\n",
              "</div>\n",
              "\n",
              "  <div id=\"id_cb85f8df-4266-45a8-9344-4ef53208a979\">\n",
              "    <style>\n",
              "      .colab-df-generate {\n",
              "        background-color: #E8F0FE;\n",
              "        border: none;\n",
              "        border-radius: 50%;\n",
              "        cursor: pointer;\n",
              "        display: none;\n",
              "        fill: #1967D2;\n",
              "        height: 32px;\n",
              "        padding: 0 0 0 0;\n",
              "        width: 32px;\n",
              "      }\n",
              "\n",
              "      .colab-df-generate:hover {\n",
              "        background-color: #E2EBFA;\n",
              "        box-shadow: 0px 1px 2px rgba(60, 64, 67, 0.3), 0px 1px 3px 1px rgba(60, 64, 67, 0.15);\n",
              "        fill: #174EA6;\n",
              "      }\n",
              "\n",
              "      [theme=dark] .colab-df-generate {\n",
              "        background-color: #3B4455;\n",
              "        fill: #D2E3FC;\n",
              "      }\n",
              "\n",
              "      [theme=dark] .colab-df-generate:hover {\n",
              "        background-color: #434B5C;\n",
              "        box-shadow: 0px 1px 3px 1px rgba(0, 0, 0, 0.15);\n",
              "        filter: drop-shadow(0px 1px 2px rgba(0, 0, 0, 0.3));\n",
              "        fill: #FFFFFF;\n",
              "      }\n",
              "    </style>\n",
              "    <button class=\"colab-df-generate\" onclick=\"generateWithVariable('df')\"\n",
              "            title=\"Generate code using this dataframe.\"\n",
              "            style=\"display:none;\">\n",
              "\n",
              "  <svg xmlns=\"http://www.w3.org/2000/svg\" height=\"24px\"viewBox=\"0 0 24 24\"\n",
              "       width=\"24px\">\n",
              "    <path d=\"M7,19H8.4L18.45,9,17,7.55,7,17.6ZM5,21V16.75L18.45,3.32a2,2,0,0,1,2.83,0l1.4,1.43a1.91,1.91,0,0,1,.58,1.4,1.91,1.91,0,0,1-.58,1.4L9.25,21ZM18.45,9,17,7.55Zm-12,3A5.31,5.31,0,0,0,4.9,8.1,5.31,5.31,0,0,0,1,6.5,5.31,5.31,0,0,0,4.9,4.9,5.31,5.31,0,0,0,6.5,1,5.31,5.31,0,0,0,8.1,4.9,5.31,5.31,0,0,0,12,6.5,5.46,5.46,0,0,0,6.5,12Z\"/>\n",
              "  </svg>\n",
              "    </button>\n",
              "    <script>\n",
              "      (() => {\n",
              "      const buttonEl =\n",
              "        document.querySelector('#id_cb85f8df-4266-45a8-9344-4ef53208a979 button.colab-df-generate');\n",
              "      buttonEl.style.display =\n",
              "        google.colab.kernel.accessAllowed ? 'block' : 'none';\n",
              "\n",
              "      buttonEl.onclick = () => {\n",
              "        google.colab.notebook.generateWithVariable('df');\n",
              "      }\n",
              "      })();\n",
              "    </script>\n",
              "  </div>\n",
              "\n",
              "    </div>\n",
              "  </div>\n"
            ]
          },
          "metadata": {},
          "execution_count": 3
        }
      ]
    },
    {
      "cell_type": "code",
      "source": [
        "import tensorflow\n",
        "from tensorflow import keras\n",
        "from keras import Sequential\n",
        "from keras.layers import Dense"
      ],
      "metadata": {
        "id": "BHf4p1txbEdR"
      },
      "execution_count": 4,
      "outputs": []
    },
    {
      "cell_type": "code",
      "source": [
        "model=Sequential()\n",
        "\n",
        "model.add(Dense(2,activation='linear',input_dim=2))\n",
        "model.add(Dense(1,activation='linear'))"
      ],
      "metadata": {
        "id": "NntVwc8obO5i"
      },
      "execution_count": 5,
      "outputs": []
    },
    {
      "cell_type": "code",
      "source": [
        "model.summary()"
      ],
      "metadata": {
        "colab": {
          "base_uri": "https://localhost:8080/"
        },
        "id": "3noG5zkAbbWx",
        "outputId": "8e76b44c-917c-4c7d-dcb3-cc45ed0e30ed"
      },
      "execution_count": 6,
      "outputs": [
        {
          "output_type": "stream",
          "name": "stdout",
          "text": [
            "Model: \"sequential\"\n",
            "_________________________________________________________________\n",
            " Layer (type)                Output Shape              Param #   \n",
            "=================================================================\n",
            " dense (Dense)               (None, 2)                 6         \n",
            "                                                                 \n",
            " dense_1 (Dense)             (None, 1)                 3         \n",
            "                                                                 \n",
            "=================================================================\n",
            "Total params: 9 (36.00 Byte)\n",
            "Trainable params: 9 (36.00 Byte)\n",
            "Non-trainable params: 0 (0.00 Byte)\n",
            "_________________________________________________________________\n"
          ]
        }
      ]
    },
    {
      "cell_type": "code",
      "source": [
        "model.get_weights()"
      ],
      "metadata": {
        "colab": {
          "base_uri": "https://localhost:8080/"
        },
        "id": "fMYkO5bRbdeQ",
        "outputId": "1e02a0c8-563c-410d-9f39-ecaebc67eed0"
      },
      "execution_count": 7,
      "outputs": [
        {
          "output_type": "execute_result",
          "data": {
            "text/plain": [
              "[array([[-1.0351557 ,  0.5806576 ],\n",
              "        [ 0.78319514,  0.03994441]], dtype=float32),\n",
              " array([0., 0.], dtype=float32),\n",
              " array([[-1.0445129 ],\n",
              "        [-0.19461155]], dtype=float32),\n",
              " array([0.], dtype=float32)]"
            ]
          },
          "metadata": {},
          "execution_count": 7
        }
      ]
    },
    {
      "cell_type": "code",
      "source": [
        "new_weights=[np.array([[0.1,0.1],\n",
        "                       [0.1,0.1]],dtype=np.float32),\n",
        "             np.array([0.,0.],dtype=np.float32),\n",
        "             np.array([[0.1],[0.1]],dtype=np.float32),\n",
        "             np.array([0.],dtype=np.float32)]"
      ],
      "metadata": {
        "id": "M2HydDw9bhRh"
      },
      "execution_count": 11,
      "outputs": []
    },
    {
      "cell_type": "code",
      "source": [
        "model.set_weights(new_weights)"
      ],
      "metadata": {
        "id": "ydE9zfHLcQIC"
      },
      "execution_count": 12,
      "outputs": []
    },
    {
      "cell_type": "code",
      "source": [
        "model.get_weights()"
      ],
      "metadata": {
        "colab": {
          "base_uri": "https://localhost:8080/"
        },
        "id": "IWsvE4DGdfix",
        "outputId": "8cf138f3-2fd4-4db8-b3d0-20990fb52232"
      },
      "execution_count": 13,
      "outputs": [
        {
          "output_type": "execute_result",
          "data": {
            "text/plain": [
              "[array([[0.1, 0.1],\n",
              "        [0.1, 0.1]], dtype=float32),\n",
              " array([0., 0.], dtype=float32),\n",
              " array([[0.1],\n",
              "        [0.1]], dtype=float32),\n",
              " array([0.], dtype=float32)]"
            ]
          },
          "metadata": {},
          "execution_count": 13
        }
      ]
    },
    {
      "cell_type": "code",
      "source": [
        "optimizer=keras.optimizers.Adam(learning_rate=0.001)\n",
        "model.compile(loss='mean_squared_error',optimizer=optimizer)"
      ],
      "metadata": {
        "id": "Dw5IIjI8di3R"
      },
      "execution_count": 14,
      "outputs": []
    },
    {
      "cell_type": "code",
      "source": [
        "model.fit(df.iloc[:,0:-1].values,df['lpa'].values,epochs=75,verbose=1,batch_size=1)"
      ],
      "metadata": {
        "colab": {
          "base_uri": "https://localhost:8080/"
        },
        "id": "Yy94l6aIdvpA",
        "outputId": "8e72263d-99a2-4ea4-dd8e-acc25395206a"
      },
      "execution_count": 15,
      "outputs": [
        {
          "output_type": "stream",
          "name": "stdout",
          "text": [
            "Epoch 1/75\n",
            "4/4 [==============================] - 1s 4ms/step - loss: 27.9037\n",
            "Epoch 2/75\n",
            "4/4 [==============================] - 0s 3ms/step - loss: 27.5841\n",
            "Epoch 3/75\n",
            "4/4 [==============================] - 0s 3ms/step - loss: 27.2494\n",
            "Epoch 4/75\n",
            "4/4 [==============================] - 0s 3ms/step - loss: 26.8967\n",
            "Epoch 5/75\n",
            "4/4 [==============================] - 0s 3ms/step - loss: 26.5840\n",
            "Epoch 6/75\n",
            "4/4 [==============================] - 0s 4ms/step - loss: 26.1842\n",
            "Epoch 7/75\n",
            "4/4 [==============================] - 0s 4ms/step - loss: 25.8391\n",
            "Epoch 8/75\n",
            "4/4 [==============================] - 0s 3ms/step - loss: 25.4348\n",
            "Epoch 9/75\n",
            "4/4 [==============================] - 0s 3ms/step - loss: 25.0491\n",
            "Epoch 10/75\n",
            "4/4 [==============================] - 0s 4ms/step - loss: 24.6742\n",
            "Epoch 11/75\n",
            "4/4 [==============================] - 0s 4ms/step - loss: 24.2648\n",
            "Epoch 12/75\n",
            "4/4 [==============================] - 0s 3ms/step - loss: 23.7892\n",
            "Epoch 13/75\n",
            "4/4 [==============================] - 0s 4ms/step - loss: 23.3825\n",
            "Epoch 14/75\n",
            "4/4 [==============================] - 0s 3ms/step - loss: 22.9606\n",
            "Epoch 15/75\n",
            "4/4 [==============================] - 0s 3ms/step - loss: 22.4865\n",
            "Epoch 16/75\n",
            "4/4 [==============================] - 0s 3ms/step - loss: 22.0012\n",
            "Epoch 17/75\n",
            "4/4 [==============================] - 0s 3ms/step - loss: 21.5719\n",
            "Epoch 18/75\n",
            "4/4 [==============================] - 0s 3ms/step - loss: 21.0389\n",
            "Epoch 19/75\n",
            "4/4 [==============================] - 0s 3ms/step - loss: 20.5456\n",
            "Epoch 20/75\n",
            "4/4 [==============================] - 0s 3ms/step - loss: 20.1067\n",
            "Epoch 21/75\n",
            "4/4 [==============================] - 0s 3ms/step - loss: 19.5539\n",
            "Epoch 22/75\n",
            "4/4 [==============================] - 0s 3ms/step - loss: 19.0383\n",
            "Epoch 23/75\n",
            "4/4 [==============================] - 0s 3ms/step - loss: 18.5587\n",
            "Epoch 24/75\n",
            "4/4 [==============================] - 0s 3ms/step - loss: 18.0084\n",
            "Epoch 25/75\n",
            "4/4 [==============================] - 0s 4ms/step - loss: 17.5414\n",
            "Epoch 26/75\n",
            "4/4 [==============================] - 0s 3ms/step - loss: 17.0012\n",
            "Epoch 27/75\n",
            "4/4 [==============================] - 0s 3ms/step - loss: 16.4395\n",
            "Epoch 28/75\n",
            "4/4 [==============================] - 0s 3ms/step - loss: 15.9495\n",
            "Epoch 29/75\n",
            "4/4 [==============================] - 0s 3ms/step - loss: 15.4427\n",
            "Epoch 30/75\n",
            "4/4 [==============================] - 0s 3ms/step - loss: 14.9004\n",
            "Epoch 31/75\n",
            "4/4 [==============================] - 0s 3ms/step - loss: 14.3502\n",
            "Epoch 32/75\n",
            "4/4 [==============================] - 0s 4ms/step - loss: 13.8428\n",
            "Epoch 33/75\n",
            "4/4 [==============================] - 0s 3ms/step - loss: 13.2889\n",
            "Epoch 34/75\n",
            "4/4 [==============================] - 0s 4ms/step - loss: 12.8431\n",
            "Epoch 35/75\n",
            "4/4 [==============================] - 0s 5ms/step - loss: 12.2658\n",
            "Epoch 36/75\n",
            "4/4 [==============================] - 0s 3ms/step - loss: 11.7680\n",
            "Epoch 37/75\n",
            "4/4 [==============================] - 0s 4ms/step - loss: 11.3487\n",
            "Epoch 38/75\n",
            "4/4 [==============================] - 0s 4ms/step - loss: 10.8248\n",
            "Epoch 39/75\n",
            "4/4 [==============================] - 0s 4ms/step - loss: 10.3638\n",
            "Epoch 40/75\n",
            "4/4 [==============================] - 0s 4ms/step - loss: 9.9076\n",
            "Epoch 41/75\n",
            "4/4 [==============================] - 0s 3ms/step - loss: 9.4334\n",
            "Epoch 42/75\n",
            "4/4 [==============================] - 0s 4ms/step - loss: 8.9925\n",
            "Epoch 43/75\n",
            "4/4 [==============================] - 0s 4ms/step - loss: 8.4890\n",
            "Epoch 44/75\n",
            "4/4 [==============================] - 0s 3ms/step - loss: 8.1489\n",
            "Epoch 45/75\n",
            "4/4 [==============================] - 0s 3ms/step - loss: 7.7109\n",
            "Epoch 46/75\n",
            "4/4 [==============================] - 0s 3ms/step - loss: 7.2956\n",
            "Epoch 47/75\n",
            "4/4 [==============================] - 0s 3ms/step - loss: 6.9153\n",
            "Epoch 48/75\n",
            "4/4 [==============================] - 0s 3ms/step - loss: 6.5642\n",
            "Epoch 49/75\n",
            "4/4 [==============================] - 0s 3ms/step - loss: 6.1502\n",
            "Epoch 50/75\n",
            "4/4 [==============================] - 0s 4ms/step - loss: 5.8746\n",
            "Epoch 51/75\n",
            "4/4 [==============================] - 0s 4ms/step - loss: 5.5239\n",
            "Epoch 52/75\n",
            "4/4 [==============================] - 0s 4ms/step - loss: 5.1814\n",
            "Epoch 53/75\n",
            "4/4 [==============================] - 0s 4ms/step - loss: 4.9339\n",
            "Epoch 54/75\n",
            "4/4 [==============================] - 0s 3ms/step - loss: 4.5977\n",
            "Epoch 55/75\n",
            "4/4 [==============================] - 0s 4ms/step - loss: 4.3561\n",
            "Epoch 56/75\n",
            "4/4 [==============================] - 0s 4ms/step - loss: 4.1228\n",
            "Epoch 57/75\n",
            "4/4 [==============================] - 0s 4ms/step - loss: 3.8722\n",
            "Epoch 58/75\n",
            "4/4 [==============================] - 0s 3ms/step - loss: 3.6233\n",
            "Epoch 59/75\n",
            "4/4 [==============================] - 0s 3ms/step - loss: 3.4106\n",
            "Epoch 60/75\n",
            "4/4 [==============================] - 0s 3ms/step - loss: 3.2409\n",
            "Epoch 61/75\n",
            "4/4 [==============================] - 0s 3ms/step - loss: 3.0282\n",
            "Epoch 62/75\n",
            "4/4 [==============================] - 0s 4ms/step - loss: 2.8412\n",
            "Epoch 63/75\n",
            "4/4 [==============================] - 0s 3ms/step - loss: 2.6598\n",
            "Epoch 64/75\n",
            "4/4 [==============================] - 0s 3ms/step - loss: 2.5656\n",
            "Epoch 65/75\n",
            "4/4 [==============================] - 0s 4ms/step - loss: 2.4233\n",
            "Epoch 66/75\n",
            "4/4 [==============================] - 0s 3ms/step - loss: 2.2789\n",
            "Epoch 67/75\n",
            "4/4 [==============================] - 0s 3ms/step - loss: 2.1571\n",
            "Epoch 68/75\n",
            "4/4 [==============================] - 0s 3ms/step - loss: 2.0362\n",
            "Epoch 69/75\n",
            "4/4 [==============================] - 0s 3ms/step - loss: 1.9334\n",
            "Epoch 70/75\n",
            "4/4 [==============================] - 0s 3ms/step - loss: 1.8254\n",
            "Epoch 71/75\n",
            "4/4 [==============================] - 0s 3ms/step - loss: 1.7710\n",
            "Epoch 72/75\n",
            "4/4 [==============================] - 0s 4ms/step - loss: 1.7036\n",
            "Epoch 73/75\n",
            "4/4 [==============================] - 0s 4ms/step - loss: 1.6310\n",
            "Epoch 74/75\n",
            "4/4 [==============================] - 0s 4ms/step - loss: 1.5432\n",
            "Epoch 75/75\n",
            "4/4 [==============================] - 0s 3ms/step - loss: 1.5111\n"
          ]
        },
        {
          "output_type": "execute_result",
          "data": {
            "text/plain": [
              "<keras.src.callbacks.History at 0x7a8920257d30>"
            ]
          },
          "metadata": {},
          "execution_count": 15
        }
      ]
    },
    {
      "cell_type": "code",
      "source": [
        "model.get_weights()"
      ],
      "metadata": {
        "colab": {
          "base_uri": "https://localhost:8080/"
        },
        "id": "WgNSb6Vzd8Qx",
        "outputId": "0ec070b6-b85c-49fe-e625-3ffe9a7a989f"
      },
      "execution_count": 17,
      "outputs": [
        {
          "output_type": "execute_result",
          "data": {
            "text/plain": [
              "[array([[0.37365773, 0.37365773],\n",
              "        [0.3657676 , 0.3657676 ]], dtype=float32),\n",
              " array([0.27241743, 0.27241743], dtype=float32),\n",
              " array([[0.3730343],\n",
              "        [0.3730343]], dtype=float32),\n",
              " array([0.20482323], dtype=float32)]"
            ]
          },
          "metadata": {},
          "execution_count": 17
        }
      ]
    },
    {
      "cell_type": "code",
      "source": [],
      "metadata": {
        "id": "xuhzafypeAmh"
      },
      "execution_count": null,
      "outputs": []
    }
  ]
}