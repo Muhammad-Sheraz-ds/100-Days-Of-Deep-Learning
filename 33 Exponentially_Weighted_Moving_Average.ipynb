{
 "cells": [
  {
   "cell_type": "markdown",
   "metadata": {},
   "source": [
    "---   \n",
    "\n",
    "<img align=\"left\" width=\"110\"   src=\"https://upload.wikimedia.org/wikipedia/commons/c/c3/Python-logo-notext.svg\"> \n",
    "\n",
    "\n",
    "<h1 align=\"center\">Tools and Techniques for Data Science</h1>\n",
    "<h1 align=\"center\">Course: Deep Learning</h1>\n",
    "\n",
    "---\n",
    "<h3 align=\"right\">Muhammad Sheraz (Data Scientist)</h3>\n",
    "<h1 align=\"center\">Day33 (Exponentially Weighted Moving Average)</h1>\n",
    "\n",
    "\n"
   ]
  },
  {
   "cell_type": "markdown",
   "metadata": {},
   "source": [
    "<div>\n",
    "<img width='48%'  src='Images/ewma.jpg'>\n",
    "<img  width='50%' src='Images/ewma_chart.png'>\n",
    "<img src='Images/farmula_ewma.png'>\n",
    "<img  src='Images/f21.png'>\n",
    "<img   src='Images/f3.png'>\n",
    "</div>\n"
   ]
  },
  {
   "cell_type": "code",
   "execution_count": null,
   "metadata": {},
   "outputs": [],
   "source": []
  },
  {
   "cell_type": "markdown",
   "metadata": {},
   "source": [
    "<a href='https://corporatefinanceinstitute.com/resources/career-map/sell-side/capital-markets/exponentially-weighted-moving-average-ewma/#:~:text=The%20Exponentially%20Weighted%20Moving%20Average%20(EWMA)%20is%20a%20quantitative%20or,technical%20analysis%20and%20volatility%20modeling.'>Read here For Detail Lecture</a>"
   ]
  },
  {
   "cell_type": "markdown",
   "metadata": {},
   "source": [
    "# Exponentially Weighted Moving Average (EWMA)\n",
    "\n",
    "<img width='45%' align='right' src='Images/ewma.jpg'>\n",
    "\n",
    "- EWMA is a quantitative or statistical measure used to model or describe a `time series`. The EWMA is widely  used in `finance`, with main applications in technical analysis and volatility modeling.\n",
    "\n",
    "- The moving average is designed such that `older observations` are given `lower weights`. The weights fall `exponentially` as the data point gets `older` – hence the name exponentially weighted.\n",
    "\n",
    "- **Role of Alpha:** The only decision a user of the EWMA must make is the parameter `alpha`. The parameter decides how important the current observation is in the calculation of the EWMA. The `higher` the value of alpha, the more `closely` the EWMA tracks the original time series.\n",
    "\n",
    "## EWMA Formula\n",
    "\n",
    "The EWMA’s simple mathematical formulation is described below:\n",
    "\n",
    "<img src='Images/farmula_ewma.png'>\n"
   ]
  },
  {
   "cell_type": "markdown",
   "metadata": {},
   "source": [
    "\n",
    "Where:\n",
    "\n",
    "- `Alpha`: The weight decided by the user\n",
    "- `r`: Value of the series in the current period\n"
   ]
  },
  {
   "cell_type": "markdown",
   "metadata": {},
   "source": [
    "The EWMA is a recursive function, which means that the current observation is calculated using the previous observation. The EWMA’s recursive property leads to the exponentially decaying weights as shown below:"
   ]
  },
  {
   "cell_type": "markdown",
   "metadata": {},
   "source": [
    "<img src='Images/farmula_ewma.png'>\n",
    "<img src='Images/f21.png'>\n",
    "<img src='Images/f3.png'>"
   ]
  },
  {
   "cell_type": "markdown",
   "metadata": {},
   "source": [
    "The process continues until we reach the base term EWMA0. The equation can be rearranged to show that the EWMAt is the weighted average of all the preceding observations, where the weight of the observation rt–k is given by:"
   ]
  },
  {
   "cell_type": "markdown",
   "metadata": {},
   "source": [
    "<div align ='center'><img align ='center' src='Images/final_farmula.png'></div>"
   ]
  },
  {
   "cell_type": "markdown",
   "metadata": {},
   "source": [
    "- Since alpha is between `0` and `1`, the weight becomes `smaller` as `k` becomes `larger`. In other words, as we go back further in history, the weight becomes smaller. The fact is illustrated in the chart below, which plots the weights of observation as k increases for different choices of the parameter alpha.\n",
    "\n",
    "<img  src='Images/ewma_chart.png'>"
   ]
  },
  {
   "cell_type": "code",
   "execution_count": null,
   "metadata": {},
   "outputs": [],
   "source": []
  },
  {
   "cell_type": "markdown",
   "metadata": {},
   "source": [
    "\n",
    "### N-Day EWMA\n",
    "\n",
    "The EWMA can be calculated for a given day range like 20-day EWMA or 200-day EWMA. To compute the moving average, we first need to find the corresponding alpha, which is given by the formula below:\n",
    "\n",
    "\n",
    "<div align ='center'><img align='center' src='Images/ewma_days.png'></div>\n",
    "\n",
    "Where:\n",
    "\n",
    "- N = number of days for which the n-day moving average is calculated"
   ]
  },
  {
   "cell_type": "markdown",
   "metadata": {},
   "source": [
    "<h3 style=\"color: green;\"\">For example, a 15-day moving average’s alpha is given by 2/(15+1), which means alpha is 0.125. Naturally shorter the lookback period – more closely, the EWMA – tracks the original time series.</h3>"
   ]
  },
  {
   "cell_type": "code",
   "execution_count": null,
   "metadata": {},
   "outputs": [],
   "source": []
  },
  {
   "cell_type": "markdown",
   "metadata": {},
   "source": [
    "### How EWMA is calculated:\n",
    "\n",
    "- **1.Select a smoothing factor (alpha):** This factor determines the weight given to recent observations. A higher alpha discounts older observations faster.\n",
    "\n",
    "- **2.Initialize the EWMA:** Set the initial value of the EWMA to the first data point.\n",
    "\n",
    "- **3.Calculate EWMA for subsequent data points:** For each subsequent data point, compute the EWMA using the formula:\n",
    "\n",
    "\n",
    "## Exponentially Weighted Moving Average (EWMA) Example\n",
    "\n",
    "Let's calculate the EWMA for a series of data points using a smoothing factor (\\( \\alpha \\)) of 0.5.\n",
    "\n",
    "### Data Points\n",
    "\n",
    "\\[ 10, 12, 15, 14, 16, 18 \\]\n",
    "\n",
    "### Calculation\n",
    "\n",
    "1. **Initialize:** \\( EWMA_1 = 10 \\).\n",
    "\n",
    "2. **Calculate for subsequent data points:**\n",
    "\n",
    "    EWMA2 = α×Value2 + (1−α)×EWMA1\n",
    "    \n",
    "    EWMA2 = 0.5×12 + (1−0.5)×10\n",
    "    EWMA2 = 6 + 5 = 11\n",
    "    \n",
    "    For the third data point (15):\n",
    "    \n",
    "    EWMA3 = 0.5×15 + (1−0.5)×11\n",
    "    EWMA3 = 7.5 + 5.5 = 13\n",
    "    \n",
    "    For the fourth data point (14):\n",
    "    \n",
    "    EWMA4 = 0.5×14 + (1−0.5)×13\n",
    "    EWMA4 = 7 + 6.5 = 13.5\n",
    "    \n",
    "    For the fifth data point (16):\n",
    "    \n",
    "    EWMA5 = 0.5×16 + (1−0.5)×13.5\n",
    "    EWMA5 = 8 + 6.75 = 14.75\n",
    "    \n",
    "    For the sixth data point (18):\n",
    "    \n",
    "    EWMA6 = 0.5×18 + (1−0.5)×14.75\n",
    "    EWMA6 = 9 + 7.375 = 16.375\n",
    "\n",
    "### Results\n",
    "\n",
    "The EWMA series for the given data points with a smoothing factor of 0.5 is:\n",
    "\n",
    "\\[ 10, 11, 13, 13.5, 14.75, 16.375 \\]\n"
   ]
  },
  {
   "cell_type": "code",
   "execution_count": null,
   "metadata": {},
   "outputs": [],
   "source": []
  },
  {
   "cell_type": "code",
   "execution_count": 4,
   "metadata": {
    "id": "DKvOI7AxamiP"
   },
   "outputs": [],
   "source": [
    "import pandas as pd\n",
    "import numpy as np\n",
    "\n",
    "import matplotlib.pyplot as plt"
   ]
  },
  {
   "cell_type": "code",
   "execution_count": 6,
   "metadata": {
    "id": "nYDJcc6FbE6n"
   },
   "outputs": [],
   "source": [
    "df=pd.read_csv('Datasets/DailyDelhiClimateTest.csv')"
   ]
  },
  {
   "cell_type": "code",
   "execution_count": 7,
   "metadata": {
    "id": "pvAMarJWbdQe"
   },
   "outputs": [],
   "source": [
    "df=df[['date','meantemp']]"
   ]
  },
  {
   "cell_type": "code",
   "execution_count": 8,
   "metadata": {
    "colab": {
     "base_uri": "https://localhost:8080/",
     "height": 423
    },
    "id": "ob3-V9_pbhKL",
    "outputId": "309eee79-715e-42ea-dfdb-45ac748a5b3d"
   },
   "outputs": [
    {
     "data": {
      "text/html": [
       "<div>\n",
       "<style scoped>\n",
       "    .dataframe tbody tr th:only-of-type {\n",
       "        vertical-align: middle;\n",
       "    }\n",
       "\n",
       "    .dataframe tbody tr th {\n",
       "        vertical-align: top;\n",
       "    }\n",
       "\n",
       "    .dataframe thead th {\n",
       "        text-align: right;\n",
       "    }\n",
       "</style>\n",
       "<table border=\"1\" class=\"dataframe\">\n",
       "  <thead>\n",
       "    <tr style=\"text-align: right;\">\n",
       "      <th></th>\n",
       "      <th>date</th>\n",
       "      <th>meantemp</th>\n",
       "    </tr>\n",
       "  </thead>\n",
       "  <tbody>\n",
       "    <tr>\n",
       "      <th>0</th>\n",
       "      <td>2017-01-01</td>\n",
       "      <td>15.913043</td>\n",
       "    </tr>\n",
       "    <tr>\n",
       "      <th>1</th>\n",
       "      <td>2017-01-02</td>\n",
       "      <td>18.500000</td>\n",
       "    </tr>\n",
       "    <tr>\n",
       "      <th>2</th>\n",
       "      <td>2017-01-03</td>\n",
       "      <td>17.111111</td>\n",
       "    </tr>\n",
       "    <tr>\n",
       "      <th>3</th>\n",
       "      <td>2017-01-04</td>\n",
       "      <td>18.700000</td>\n",
       "    </tr>\n",
       "    <tr>\n",
       "      <th>4</th>\n",
       "      <td>2017-01-05</td>\n",
       "      <td>18.388889</td>\n",
       "    </tr>\n",
       "    <tr>\n",
       "      <th>...</th>\n",
       "      <td>...</td>\n",
       "      <td>...</td>\n",
       "    </tr>\n",
       "    <tr>\n",
       "      <th>109</th>\n",
       "      <td>2017-04-20</td>\n",
       "      <td>34.500000</td>\n",
       "    </tr>\n",
       "    <tr>\n",
       "      <th>110</th>\n",
       "      <td>2017-04-21</td>\n",
       "      <td>34.250000</td>\n",
       "    </tr>\n",
       "    <tr>\n",
       "      <th>111</th>\n",
       "      <td>2017-04-22</td>\n",
       "      <td>32.900000</td>\n",
       "    </tr>\n",
       "    <tr>\n",
       "      <th>112</th>\n",
       "      <td>2017-04-23</td>\n",
       "      <td>32.875000</td>\n",
       "    </tr>\n",
       "    <tr>\n",
       "      <th>113</th>\n",
       "      <td>2017-04-24</td>\n",
       "      <td>32.000000</td>\n",
       "    </tr>\n",
       "  </tbody>\n",
       "</table>\n",
       "<p>114 rows × 2 columns</p>\n",
       "</div>"
      ],
      "text/plain": [
       "           date   meantemp\n",
       "0    2017-01-01  15.913043\n",
       "1    2017-01-02  18.500000\n",
       "2    2017-01-03  17.111111\n",
       "3    2017-01-04  18.700000\n",
       "4    2017-01-05  18.388889\n",
       "..          ...        ...\n",
       "109  2017-04-20  34.500000\n",
       "110  2017-04-21  34.250000\n",
       "111  2017-04-22  32.900000\n",
       "112  2017-04-23  32.875000\n",
       "113  2017-04-24  32.000000\n",
       "\n",
       "[114 rows x 2 columns]"
      ]
     },
     "execution_count": 8,
     "metadata": {},
     "output_type": "execute_result"
    }
   ],
   "source": [
    "df"
   ]
  },
  {
   "cell_type": "code",
   "execution_count": 10,
   "metadata": {
    "colab": {
     "base_uri": "https://localhost:8080/",
     "height": 447
    },
    "id": "RCgcDkgwbjR7",
    "outputId": "54683ad5-f76a-4d1b-e060-1d774743197d"
   },
   "outputs": [
    {
     "data": {
      "image/png": "[encoded data removed]",
      "text/plain": [
       "<Figure size 432x288 with 1 Axes>"
      ]
     },
     "metadata": {
      "needs_background": "light"
     },
     "output_type": "display_data"
    }
   ],
   "source": [
    "plt.scatter(df['date'],df['meantemp'],color='red');"
   ]
  },
  {
   "cell_type": "code",
   "execution_count": 11,
   "metadata": {
    "id": "8oAJZkadbwE7"
   },
   "outputs": [],
   "source": [
    "X1=df['meantemp'].ewm(alpha=0.9).mean()"
   ]
  },
  {
   "cell_type": "code",
   "execution_count": 12,
   "metadata": {
    "colab": {
     "base_uri": "https://localhost:8080/"
    },
    "id": "OfiZs8gAb6o7",
    "outputId": "bf7ff468-1f52-4896-92da-425bc29391b9"
   },
   "outputs": [
    {
     "data": {
      "text/plain": [
       "0      15.913043\n",
       "1      18.264822\n",
       "2      17.225443\n",
       "3      18.552677\n",
       "4      18.405266\n",
       "         ...    \n",
       "109    34.403401\n",
       "110    34.265340\n",
       "111    33.036534\n",
       "112    32.891153\n",
       "113    32.089115\n",
       "Name: meantemp, Length: 114, dtype: float64"
      ]
     },
     "execution_count": 12,
     "metadata": {},
     "output_type": "execute_result"
    }
   ],
   "source": [
    "X1"
   ]
  },
  {
   "cell_type": "code",
   "execution_count": 13,
   "metadata": {
    "colab": {
     "base_uri": "https://localhost:8080/",
     "height": 423
    },
    "id": "61I5Sx3Pb70L",
    "outputId": "33dfd849-eaad-41d1-e1cf-c103be6edc4e"
   },
   "outputs": [
    {
     "data": {
      "text/html": [
       "<div>\n",
       "<style scoped>\n",
       "    .dataframe tbody tr th:only-of-type {\n",
       "        vertical-align: middle;\n",
       "    }\n",
       "\n",
       "    .dataframe tbody tr th {\n",
       "        vertical-align: top;\n",
       "    }\n",
       "\n",
       "    .dataframe thead th {\n",
       "        text-align: right;\n",
       "    }\n",
       "</style>\n",
       "<table border=\"1\" class=\"dataframe\">\n",
       "  <thead>\n",
       "    <tr style=\"text-align: right;\">\n",
       "      <th></th>\n",
       "      <th>date</th>\n",
       "      <th>meantemp</th>\n",
       "      <th>ewma</th>\n",
       "    </tr>\n",
       "  </thead>\n",
       "  <tbody>\n",
       "    <tr>\n",
       "      <th>0</th>\n",
       "      <td>2017-01-01</td>\n",
       "      <td>15.913043</td>\n",
       "      <td>15.913043</td>\n",
       "    </tr>\n",
       "    <tr>\n",
       "      <th>1</th>\n",
       "      <td>2017-01-02</td>\n",
       "      <td>18.500000</td>\n",
       "      <td>18.264822</td>\n",
       "    </tr>\n",
       "    <tr>\n",
       "      <th>2</th>\n",
       "      <td>2017-01-03</td>\n",
       "      <td>17.111111</td>\n",
       "      <td>17.225443</td>\n",
       "    </tr>\n",
       "    <tr>\n",
       "      <th>3</th>\n",
       "      <td>2017-01-04</td>\n",
       "      <td>18.700000</td>\n",
       "      <td>18.552677</td>\n",
       "    </tr>\n",
       "    <tr>\n",
       "      <th>4</th>\n",
       "      <td>2017-01-05</td>\n",
       "      <td>18.388889</td>\n",
       "      <td>18.405266</td>\n",
       "    </tr>\n",
       "    <tr>\n",
       "      <th>...</th>\n",
       "      <td>...</td>\n",
       "      <td>...</td>\n",
       "      <td>...</td>\n",
       "    </tr>\n",
       "    <tr>\n",
       "      <th>109</th>\n",
       "      <td>2017-04-20</td>\n",
       "      <td>34.500000</td>\n",
       "      <td>34.403401</td>\n",
       "    </tr>\n",
       "    <tr>\n",
       "      <th>110</th>\n",
       "      <td>2017-04-21</td>\n",
       "      <td>34.250000</td>\n",
       "      <td>34.265340</td>\n",
       "    </tr>\n",
       "    <tr>\n",
       "      <th>111</th>\n",
       "      <td>2017-04-22</td>\n",
       "      <td>32.900000</td>\n",
       "      <td>33.036534</td>\n",
       "    </tr>\n",
       "    <tr>\n",
       "      <th>112</th>\n",
       "      <td>2017-04-23</td>\n",
       "      <td>32.875000</td>\n",
       "      <td>32.891153</td>\n",
       "    </tr>\n",
       "    <tr>\n",
       "      <th>113</th>\n",
       "      <td>2017-04-24</td>\n",
       "      <td>32.000000</td>\n",
       "      <td>32.089115</td>\n",
       "    </tr>\n",
       "  </tbody>\n",
       "</table>\n",
       "<p>114 rows × 3 columns</p>\n",
       "</div>"
      ],
      "text/plain": [
       "           date   meantemp       ewma\n",
       "0    2017-01-01  15.913043  15.913043\n",
       "1    2017-01-02  18.500000  18.264822\n",
       "2    2017-01-03  17.111111  17.225443\n",
       "3    2017-01-04  18.700000  18.552677\n",
       "4    2017-01-05  18.388889  18.405266\n",
       "..          ...        ...        ...\n",
       "109  2017-04-20  34.500000  34.403401\n",
       "110  2017-04-21  34.250000  34.265340\n",
       "111  2017-04-22  32.900000  33.036534\n",
       "112  2017-04-23  32.875000  32.891153\n",
       "113  2017-04-24  32.000000  32.089115\n",
       "\n",
       "[114 rows x 3 columns]"
      ]
     },
     "execution_count": 13,
     "metadata": {},
     "output_type": "execute_result"
    }
   ],
   "source": [
    "df['ewma']=X1\n",
    "df"
   ]
  },
  {
   "cell_type": "code",
   "execution_count": 14,
   "metadata": {
    "colab": {
     "base_uri": "https://localhost:8080/",
     "height": 430
    },
    "id": "D4GVJtY8cBCq",
    "outputId": "dd1041a3-cf0a-455c-8421-b88e70a248b5"
   },
   "outputs": [
    {
     "data": {
      "image/png": "[encoded data removed]",
      "text/plain": [
       "<Figure size 432x288 with 1 Axes>"
      ]
     },
     "metadata": {
      "needs_background": "light"
     },
     "output_type": "display_data"
    }
   ],
   "source": [
    "plt.scatter(df['date'],df['meantemp'],color='red')\n",
    "plt.plot(df['date'],X1,color='black',label='alpha=0.9')\n",
    "plt.legend()\n",
    "plt.show()"
   ]
  },
  {
   "cell_type": "code",
   "execution_count": 15,
   "metadata": {
    "colab": {
     "base_uri": "https://localhost:8080/",
     "height": 430
    },
    "id": "VC9oYv95cW3L",
    "outputId": "9193c5e3-7704-46f4-9766-0a204638f249"
   },
   "outputs": [
    {
     "data": {
      "image/png": "[encoded data removed]",
      "text/plain": [
       "<Figure size 432x288 with 1 Axes>"
      ]
     },
     "metadata": {
      "needs_background": "light"
     },
     "output_type": "display_data"
    }
   ],
   "source": [
    "plt.scatter(df['date'],df['meantemp'],color='red')\n",
    "plt.plot(df['date'],X1,color='black',label='alpha=0.1')\n",
    "plt.legend()\n",
    "plt.show();"
   ]
  },
  {
   "cell_type": "code",
   "execution_count": null,
   "metadata": {
    "id": "bIGEyP8scbGr"
   },
   "outputs": [],
   "source": []
  },
  {
   "cell_type": "markdown",
   "metadata": {},
   "source": [
    "<h1 align='center'>Interview Questions</h1>"
   ]
  },
  {
   "cell_type": "markdown",
   "metadata": {},
   "source": [
    "**1. What is Exponentially Weighted Moving Average (EWMA)?**\n",
    "\n",
    "   **Answer:** \n",
    "   Exponentially Weighted Moving Average (EWMA) is a statistical method used to analyze data points over a period of time, giving more weight to recent observations while diminishing the importance of older observations exponentially. It is commonly used in finance, engineering, and signal processing for tasks like time series analysis, forecasting, and noise reduction.\n",
    "\n",
    "**2. How does EWMA differ from simple moving average?**\n",
    "\n",
    "   **Answer:** \n",
    "   EWMA gives more weight to recent data points while exponentially decreasing the weight of older observations, whereas simple moving average gives equal weight to all data points within the chosen window size. This means EWMA reacts more quickly to recent changes in the data compared to simple moving average.\n",
    "\n",
    "**3. What is the formula for calculating EWMA?**\n",
    "\n",
    "   **Answer:** \n",
    "   The formula for calculating EWMA is:\n",
    "\n",
    "   <img src='Images/farmula_ewma.png'>\n",
    "\n",
    "   Where:\n",
    "   - EMA_t is the Exponentially Weighted Moving Average at time t.\n",
    "   - X_t is the observation at time t.\n",
    "   - α is the smoothing factor (also known as the decay factor), which typically ranges between 0 and 1.\n",
    "\n",
    "**4. How do you choose the value of the smoothing factor (α) in EWMA?**\n",
    "\n",
    "   **Answer:** \n",
    "   The choice of the smoothing factor depends on the characteristics of the data and the desired responsiveness of the EWMA. A smaller value of α gives more weight to past observations and results in smoother estimates, while a larger value of α puts more emphasis on recent observations, making the estimate more responsive to changes.\n",
    "\n",
    "**5. What are the advantages of using EWMA?**\n",
    "\n",
    "   **Answer:** \n",
    "   - EWMA reacts quickly to changes in data, making it suitable for detecting and responding to sudden shifts or trends.\n",
    "   - It provides a smooth estimate of the underlying data by giving more weight to recent observations.\n",
    "   - It requires minimal computational resources compared to other methods like autoregressive models.\n",
    "\n",
    "**6. Can EWMA be used for outlier detection?**\n",
    "\n",
    "   **Answer:** \n",
    "   Yes, EWMA can be used for outlier detection by comparing the current observation with the EWMA estimate and identifying deviations beyond a certain threshold. Outliers are often reflected in large deviations between the observed data and the EWMA estimate.\n",
    "\n",
    "**7. What are the limitations of EWMA?**\n",
    "\n",
    "   **Answer:** \n",
    "   - EWMA relies heavily on the choice of the smoothing factor (α), which may require tuning based on the characteristics of the data.\n",
    "   - It may not perform well in capturing long-term trends or cyclical patterns present in the data.\n",
    "   - EWMA assumes that the data follows a stationary process, which may not always hold true in real-world scenarios.\n"
   ]
  },
  {
   "cell_type": "code",
   "execution_count": null,
   "metadata": {},
   "outputs": [],
   "source": []
  }
 ],
 "metadata": {
  "colab": {
   "provenance": []
  },
  "kernelspec": {
   "display_name": "Python 3 (ipykernel)",
   "language": "python",
   "name": "python3"
  },
  "language_info": {
   "codemirror_mode": {
    "name": "ipython",
    "version": 3
   },
   "file_extension": ".py",
   "mimetype": "text/x-python",
   "name": "python",
   "nbconvert_exporter": "python",
   "pygments_lexer": "ipython3",
   "version": "3.10.6"
  }
 },
 "nbformat": 4,
 "nbformat_minor": 4
}
