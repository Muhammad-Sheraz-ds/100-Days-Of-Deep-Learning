{
 "cells": [
  {
   "cell_type": "markdown",
   "id": "b098f9ff-27d4-4279-a113-128c2467cbc3",
   "metadata": {},
   "source": [
    "<img   src=\"../Images/nlp-approaches2.png\"  >\n",
    "<img align=\"left\" width=\"550\" height=\"800\"  src=\"../Images/ds1.png\"  >\n",
    "<img align=\"right\" width=\"450\"  src=\"../Images/dl.png\"  >\n"
   ]
  },
  {
   "cell_type": "markdown",
   "id": "e8c9be8b-a0ed-477b-9e3e-30bc7726522b",
   "metadata": {},
   "source": [
    "<img align=\"center\" width=\"800\" height=\"500\" src=\"../Images/perceptrone.png\" alt=\"Multiple Perceptrons\">\n"
   ]
  },
  {
   "cell_type": "code",
   "execution_count": null,
   "id": "28499c96-01ce-44b2-953c-19d0b1aafcb0",
   "metadata": {},
   "outputs": [],
   "source": []
  },
  {
   "cell_type": "markdown",
   "id": "8ef437a1-47f7-42fe-bf76-a856d1686361",
   "metadata": {},
   "source": [
    "## How Does Perceptron Work?\n"
   ]
  },
  {
   "cell_type": "markdown",
   "id": "7f32dee8-db52-40a9-adb7-234b917f23df",
   "metadata": {},
   "source": [
    "<img align=\"center\" width=\"800\" height=\"500\" src=\"../Images/working_per.png\" alt=\"Multiple Perceptrons\">\n"
   ]
  },
  {
   "cell_type": "code",
   "execution_count": null,
   "id": "d5bb56a0-2cf9-43c6-aa62-9677a05968a9",
   "metadata": {},
   "outputs": [],
   "source": []
  },
  {
   "cell_type": "code",
   "execution_count": null,
   "id": "c83eca99-5a80-4494-8d4d-b52e4bcb4db9",
   "metadata": {},
   "outputs": [],
   "source": []
  },
  {
   "cell_type": "code",
   "execution_count": null,
   "id": "7c8f15f3-d3c3-4c1f-8d5e-505ea236e53d",
   "metadata": {},
   "outputs": [],
   "source": []
  },
  {
   "cell_type": "markdown",
   "id": "e33103b0-6fd5-4b6a-80a0-46be77a20984",
   "metadata": {},
   "source": [
    "\n",
    "<img align=\"center\" width=\"800\" height=\"500\" src=\"../Images/geometric_intution.png\" alt=\"Multiple Perceptrons\">\n"
   ]
  },
  {
   "cell_type": "code",
   "execution_count": null,
   "id": "184b4b9c-99d2-4f85-8843-992d495dec9d",
   "metadata": {},
   "outputs": [],
   "source": []
  },
  {
   "cell_type": "code",
   "execution_count": null,
   "id": "9eb2378b-f199-4f32-8834-5e4f06c723c6",
   "metadata": {},
   "outputs": [],
   "source": []
  },
  {
   "cell_type": "code",
   "execution_count": null,
   "id": "7b7a373d-bc9d-4363-a1d6-8ffbf9a8d37c",
   "metadata": {},
   "outputs": [],
   "source": []
  },
  {
   "cell_type": "markdown",
   "id": "dab0f151-b9b9-460f-8646-65bcfa76fa70",
   "metadata": {},
   "source": [
    "## Perceptron for AND Gate:"
   ]
  },
  {
   "cell_type": "markdown",
   "id": "bb385ea1-e0d5-4056-804a-5b375a671195",
   "metadata": {},
   "source": [
    "<img  width=\"800\" height=\"500\" src=\"../Images/andgate.png\">"
   ]
  },
  {
   "cell_type": "code",
   "execution_count": null,
   "id": "0f1dd7be-fc18-4887-8248-3aab15a23e11",
   "metadata": {},
   "outputs": [],
   "source": []
  },
  {
   "cell_type": "code",
   "execution_count": 1,
   "id": "4dc7cf05-982e-4e06-be34-9eec5567e32d",
   "metadata": {},
   "outputs": [
    {
     "name": "stdout",
     "output_type": "stream",
     "text": [
      "Initial w1:  0.8943069417599725\n",
      "Initial w2:  0.41092627122371206\n",
      "Initial bias:  -0.8991783935987787\n",
      "Calculated w1:  0.8943069417599725\n",
      "Calculated w2:  0.41092627122371206\n",
      "Calculated bias:  -0.8991783935987787\n"
     ]
    },
    {
     "data": {
      "image/png": "[encoded data removed]",
      "text/plain": [
       "<Figure size 432x288 with 1 Axes>"
      ]
     },
     "metadata": {
      "needs_background": "light"
     },
     "output_type": "display_data"
    }
   ],
   "source": [
    "import random\n",
    "import matplotlib.pyplot as plt\n",
    "import numpy as np\n",
    "\n",
    "class Perceptron:\n",
    "    def __init__(self):\n",
    "        self.w1 = random.uniform(-1, 1)\n",
    "        self.w2 = random.uniform(-1, 1)\n",
    "        self.bias = random.uniform(-1, 1)\n",
    "        print('Initial w1: ',self.w1)\n",
    "        print('Initial w2: ',self.w2)\n",
    "        print('Initial bias: ',self.bias)\n",
    "        self.learning_rate = 0.1\n",
    "\n",
    "    def predict(self, x1, x2):\n",
    "        summation = self.w1 * x1 + self.w2 * x2 + self.bias\n",
    "        return 1 if summation >= 0 else 0\n",
    "\n",
    "    def train(self, x_train, labels, epochs):\n",
    "        for epoch in range(epochs):\n",
    "            for (x1, x2), label in zip(x_train, labels):\n",
    "                prediction = self.predict(x1, x2)\n",
    "                error = label - prediction\n",
    "                self.w1 += self.learning_rate * error * x1\n",
    "                self.w2 += self.learning_rate * error * x2\n",
    "                self.bias += self.learning_rate * error\n",
    "\n",
    "        print('Calculated w1: ',self.w1)\n",
    "        print('Calculated w2: ',self.w2)\n",
    "        print('Calculated bias: ',self.bias)\n",
    "\n",
    "    \n",
    "    def decision_boundary(self, x):\n",
    "        return -(self.w1 * x + self.bias) / self.w2\n",
    "\n",
    "# AND gate truth table\n",
    "x_train = [\n",
    "    (0, 0),\n",
    "    (0, 1),\n",
    "    (1, 0),\n",
    "    (1, 1)\n",
    "]\n",
    "\n",
    "labels = [0, 0, 0, 1]\n",
    "\n",
    "perceptron = Perceptron()\n",
    "\n",
    "# Train the perceptron for 100 epochs\n",
    "perceptron.train(x_train, labels, epochs=100)\n",
    "\n",
    "# Visualize the decision boundary and data points\n",
    "plt.scatter([0, 0, 1, 1], [0, 1, 0, 1], c=labels, cmap='viridis', marker='o', s=100, label='Data Points')\n",
    "x_line = np.linspace(-0.2, 1.2, 100)\n",
    "y_line = perceptron.decision_boundary(x_line)\n",
    "plt.plot(x_line, y_line, color='r', label='Decision Boundary')\n",
    "plt.xlabel('Input 1')\n",
    "plt.ylabel('Input 2')\n",
    "plt.title('Perceptron for AND Gate')\n",
    "plt.legend()\n",
    "plt.show()\n"
   ]
  },
  {
   "cell_type": "markdown",
   "id": "603d176b-eb36-49aa-96fd-24c946961840",
   "metadata": {},
   "source": [
    "## Perceptron for OR Gate"
   ]
  },
  {
   "cell_type": "code",
   "execution_count": 2,
   "id": "69546a13-9888-48a8-8749-80cdecddafff",
   "metadata": {},
   "outputs": [
    {
     "name": "stdout",
     "output_type": "stream",
     "text": [
      "Initial w1:  -0.423511\n",
      "Initial w2:  0.0874\n",
      "Initial bias:  -0.162756\n",
      "-----------------------------------\n",
      "Calculated w1:  0.07648900000000003\n",
      "Calculated w2:  0.2874\n",
      "Calculated bias:  -0.062756\n",
      "-----------------------------------\n",
      "Testing perceptron for OR:\n",
      "Inputs: (0, 0), Prediction: 0\n",
      "Inputs: (0, 1), Prediction: 1\n",
      "Inputs: (1, 0), Prediction: 1\n",
      "Inputs: (1, 1), Prediction: 1\n"
     ]
    },
    {
     "data": {
      "image/png": "[encoded data removed]",
      "text/plain": [
       "<Figure size 432x288 with 1 Axes>"
      ]
     },
     "metadata": {
      "needs_background": "light"
     },
     "output_type": "display_data"
    }
   ],
   "source": [
    "class PerceptronOR:\n",
    "    def __init__(self):\n",
    "        self.w1 = -0.423511\n",
    "        self.w2 = 0.0874\n",
    "        self.bias = -0.162756\n",
    "        \n",
    "        print('Initial w1: ',self.w1)\n",
    "        print('Initial w2: ',self.w2)\n",
    "        print('Initial bias: ',self.bias)\n",
    "        \n",
    "        self.learning_rate = 0.1\n",
    "    def predict(self, x1, x2):\n",
    "        summation = self.w1 * x1 + self.w2 * x2 + self.bias\n",
    "        return 1 if summation >= 0 else 0\n",
    "\n",
    "    def train(self, x_train, labels, epochs):\n",
    "        for epoch in range(epochs):\n",
    "            for (x1, x2), label in zip(x_train, labels):\n",
    "                prediction = self.predict(x1, x2)\n",
    "                error = label - prediction\n",
    "                self.w1 += self.learning_rate * error * x1\n",
    "                self.w2 += self.learning_rate * error * x2\n",
    "                self.bias += self.learning_rate * error\n",
    "        print('-----------------------------------')\n",
    "        print('Calculated w1: ',self.w1)\n",
    "        print('Calculated w2: ',self.w2)\n",
    "        print('Calculated bias: ',self.bias)\n",
    "        \n",
    "\n",
    "    def decision_boundary(self, x):\n",
    "        return -(self.w1 * x + self.bias) / self.w2\n",
    "\n",
    "# OR gate truth table\n",
    "x_train_or = [\n",
    "    (0, 0),\n",
    "    (0, 1),\n",
    "    (1, 0),\n",
    "    (1, 1)\n",
    "]\n",
    "\n",
    "labels_or = [0, 1, 1, 1]\n",
    "\n",
    "perceptron_or = PerceptronOR()\n",
    "\n",
    "# Train the perceptron for 100 epochs\n",
    "perceptron_or.train(x_train_or, labels_or, epochs=10)\n",
    "print('-----------------------------------')\n",
    "\n",
    "# Test and visualize the trained perceptron for OR\n",
    "print(\"Testing perceptron for OR:\")\n",
    "for inputs in x_train_or:\n",
    "    prediction = perceptron_or.predict(*inputs)\n",
    "    print(f\"Inputs: {inputs}, Prediction: {prediction}\")\n",
    "\n",
    "# Visualize the decision boundary and data points for OR\n",
    "plt.scatter([0, 0, 1, 1], [0, 1, 0, 1], c=labels_or, cmap='viridis', marker='o', s=100, label='Data Points')\n",
    "x_line_or = np.linspace(0, 1, 100)\n",
    "y_line_or = perceptron_or.decision_boundary(x_line_or)\n",
    "plt.plot(x_line_or, y_line_or, color='r', label='Decision Boundary')\n",
    "plt.xlabel('Input 1')\n",
    "plt.ylabel('Input 2')\n",
    "plt.title('Perceptron for OR Gate')\n",
    "plt.legend()\n",
    "plt.show()\n"
   ]
  },
  {
   "cell_type": "markdown",
   "id": "516f87a5-cae7-40f9-a599-abcd9fd782f4",
   "metadata": {},
   "source": [
    "## Perceptron for XOR Gate"
   ]
  },
  {
   "cell_type": "code",
   "execution_count": 3,
   "id": "3a58c12f-6129-4fc4-9002-d3f70e1ea099",
   "metadata": {},
   "outputs": [
    {
     "name": "stdout",
     "output_type": "stream",
     "text": [
      "Initial w1:  -0.546776611936223\n",
      "Initial w2:  -0.9905600977224229\n",
      "Initial bias:  -0.4561135503830218\n",
      "Calculated w1:  -0.246776611936223\n",
      "Calculated w2:  -0.19056009772242308\n",
      "Calculated bias:  0.14388644961697816\n",
      "Testing perceptron for XOR:\n",
      "Inputs: (0, 0), Prediction: 1\n",
      "Inputs: (0, 1), Prediction: 0\n",
      "Inputs: (1, 0), Prediction: 0\n",
      "Inputs: (1, 1), Prediction: 0\n"
     ]
    },
    {
     "data": {
      "image/png": "[encoded data removed]",
      "text/plain": [
       "<Figure size 432x288 with 1 Axes>"
      ]
     },
     "metadata": {
      "needs_background": "light"
     },
     "output_type": "display_data"
    }
   ],
   "source": [
    "import random\n",
    "import matplotlib.pyplot as plt\n",
    "import numpy as np\n",
    "\n",
    "class PerceptronXOR:\n",
    "    def __init__(self):\n",
    "        self.w1 = random.uniform(-1, 1)\n",
    "        self.w2 = random.uniform(-1, 1)\n",
    "        self.bias = random.uniform(-1, 1)\n",
    "        self.learning_rate = 0.1\n",
    "        print('Initial w1: ',self.w1)\n",
    "        print('Initial w2: ',self.w2)\n",
    "        print('Initial bias: ',self.bias)\n",
    "\n",
    "    def predict(self, x1, x2):\n",
    "        summation = self.w1 * x1 + self.w2 * x2 + self.bias\n",
    "        return 1 if summation >= 0 else 0\n",
    "\n",
    "    def train(self, x_train, labels, epochs):\n",
    "        for epoch in range(epochs):\n",
    "            for (x1, x2), label in zip(x_train, labels):\n",
    "                prediction = self.predict(x1, x2)\n",
    "                error = label - prediction\n",
    "                self.w1 += self.learning_rate * error * x1\n",
    "                self.w2 += self.learning_rate * error * x2\n",
    "                self.bias += self.learning_rate * error\n",
    "        print('Calculated w1: ',self.w1)\n",
    "        print('Calculated w2: ',self.w2)\n",
    "        print('Calculated bias: ',self.bias)\n",
    "    \n",
    "    def decision_boundary(self, x):\n",
    "        return -(self.w1 * x + self.bias) / self.w2\n",
    "\n",
    "# XOR gate truth table\n",
    "x_train = [\n",
    "    (0, 0),\n",
    "    (0, 1),\n",
    "    (1, 0),\n",
    "    (1, 1)\n",
    "]\n",
    "\n",
    "labels = [0, 1, 1, 0]\n",
    "\n",
    "perceptron = PerceptronXOR()\n",
    "\n",
    "# Train the perceptron for 100 epochs\n",
    "perceptron.train(x_train, labels, epochs=100)\n",
    "\n",
    "# Test and visualize the trained perceptron for XOR\n",
    "print(\"Testing perceptron for XOR:\")\n",
    "for inputs in x_train:\n",
    "    prediction = perceptron.predict(*inputs)\n",
    "    print(f\"Inputs: {inputs}, Prediction: {prediction}\")\n",
    "\n",
    "# Visualize the decision boundary and data points for XOR\n",
    "plt.scatter([0, 0, 1, 1], [0, 1, 0, 1], c=labels, cmap='viridis', marker='o', s=100, label='Data Points')\n",
    "x_line_ = np.linspace(-0.2, 1.2, 100)\n",
    "y_line = perceptron.decision_boundary(x_line)\n",
    "plt.plot(x_line, y_line, color='r',label='Decision Boundary')\n",
    "plt.xlabel('Input 1')\n",
    "plt.ylabel('Input 2')\n",
    "plt.title('Perceptron for XOR Gate')\n",
    "plt.legend()\n",
    "plt.show()\n"
   ]
  },
  {
   "cell_type": "markdown",
   "id": "e0db6e2a-9390-4ed4-91b5-2712a85f0bfe",
   "metadata": {},
   "source": [
    ">  The XOR gate is not linearly separable, and a single-layer perceptron (which has a linear decision boundary) cannot accurately represent XOR. We need a more complex model, such as a multi-layer perceptron (MLP) with at least one hidden layer"
   ]
  },
  {
   "cell_type": "code",
   "execution_count": null,
   "id": "34744725-c006-4305-873c-93e463b94708",
   "metadata": {},
   "outputs": [],
   "source": []
  },
  {
   "cell_type": "code",
   "execution_count": null,
   "id": "40857469-eb52-4c0b-a8ac-0a33eb07a6f8",
   "metadata": {},
   "outputs": [],
   "source": []
  },
  {
   "cell_type": "code",
   "execution_count": null,
   "id": "843414bf-11a2-4c34-860f-ffa14ee41a57",
   "metadata": {},
   "outputs": [],
   "source": []
  },
  {
   "cell_type": "markdown",
   "id": "c2b40094-56f8-4776-a50c-784fa8fd678a",
   "metadata": {},
   "source": [
    "# Summary"
   ]
  },
  {
   "cell_type": "code",
   "execution_count": null,
   "id": "ceba8360-2238-413e-8333-3777574aa66d",
   "metadata": {},
   "outputs": [],
   "source": []
  },
  {
   "cell_type": "markdown",
   "id": "d0992fd7-06eb-4e1b-a42b-a53beacf41b4",
   "metadata": {},
   "source": [
    "\n",
    "<img align=\"center\" width=\"800\" height=\"500\" src=\"../Images/gates.png\" alt=\"Multiple Perceptrons\">\n"
   ]
  },
  {
   "cell_type": "code",
   "execution_count": null,
   "id": "22e7c74b-4a1c-44a6-b98b-01b7cfef2616",
   "metadata": {},
   "outputs": [],
   "source": []
  },
  {
   "cell_type": "markdown",
   "id": "8afa4768-5d84-487c-819a-7a94f279d2b6",
   "metadata": {},
   "source": [
    "\n",
    "<img align=\"center\" width=\"800\" height=\"500\" src=\"../Images/aox.png\" alt=\"Multiple Perceptrons\">\n"
   ]
  },
  {
   "cell_type": "code",
   "execution_count": null,
   "id": "f07d8ce8-426c-4e43-9030-c87032dd8912",
   "metadata": {},
   "outputs": [],
   "source": []
  },
  {
   "cell_type": "markdown",
   "id": "6bd83a57-cc3a-4c70-83f0-63ca5658feb7",
   "metadata": {},
   "source": [
    "# Frequently Asked Questions(FAQs)"
   ]
  },
  {
   "cell_type": "markdown",
   "id": "c0a9e495-8a17-430c-9639-f61114399cef",
   "metadata": {},
   "source": [
    "## 1. What is the Perceptron model in Machine Learning?"
   ]
  },
  {
   "cell_type": "markdown",
   "id": "37f4ba5b-ac45-4c24-9ba7-4586fbdabf42",
   "metadata": {},
   "source": [
    "> The perceptron is a linear algorithm in machine learning employed for supervised learning tasks involving binary classification. It serves as a foundational element for understanding both machine learning and deep learning, comprising weights, input values or scores, and a threshold."
   ]
  },
  {
   "cell_type": "markdown",
   "id": "8f4cf697-67af-4cc3-a98b-fa7283133658",
   "metadata": {},
   "source": [
    "# 2. What are the basic components of Perceptron?."
   ]
  },
  {
   "cell_type": "markdown",
   "id": "884b506f-dae3-4df6-aea7-957d1f725e27",
   "metadata": {},
   "source": [
    ">The basic components of a perceptron include input values or features, weights associated with each input, a summation function, an activation function, a bias term, and an output. These elements collectively enable the perceptron to learn and make binary classifications in machine learning tasks."
   ]
  },
  {
   "cell_type": "markdown",
   "id": "3026c4c8-bc95-404e-a813-d3e88070b95d",
   "metadata": {},
   "source": [
    "# 3. What is Binary classifier in Machine Learning?"
   ]
  },
  {
   "cell_type": "markdown",
   "id": "e95d1c4c-3071-476d-8fa3-ea2e28e76015",
   "metadata": {},
   "source": [
    "> A binary classifier in machine learning is a type of algorithm designed to categorize input data into two distinct classes or categories. The goal is to assign each input instance to one of the two classes based on its features or characteristics."
   ]
  },
  {
   "cell_type": "markdown",
   "id": "627dcf2a-bdfa-4316-b1bc-05f83fa4dfcc",
   "metadata": {},
   "source": [
    "# 4. What is the Perceptron Learning Algorithm?"
   ]
  },
  {
   "cell_type": "markdown",
   "id": "5934e9fb-4fc6-4dcc-af89-6b28880ae12a",
   "metadata": {},
   "source": [
    "> The Perceptron Learning Algorithm is a binary classification algorithm used in supervised learning. It adjusts weights associated with input features iteratively based on misclassifications, aiming to find a decision boundary that separates classes. It continues until all training examples are correctly classified or a predefined number of iterations is reached."
   ]
  },
  {
   "cell_type": "markdown",
   "id": "fbb6b20a-e613-4916-bee1-8bc3400afc90",
   "metadata": {},
   "source": [
    "# 5. What is the difference between Perceptron and Multi-layer Perceptron?\n"
   ]
  },
  {
   "cell_type": "markdown",
   "id": "be4c4cef-cfd6-4ef3-9297-e70bde03aa8a",
   "metadata": {},
   "source": [
    "> The Perceptron is a single-layer neural network used for binary classification, learning linearly separable patterns. In contrast, a Multi-layer Perceptron (MLP) has multiple layers, enabling it to learn complex, non-linear relationships. MLPs have input, hidden, and output layers, allowing them to handle more intricate tasks compared to the simpler Perceptron."
   ]
  },
  {
   "cell_type": "code",
   "execution_count": null,
   "id": "e4d17098-451e-47ac-a379-355fb5f9f1f2",
   "metadata": {},
   "outputs": [],
   "source": []
  },
  {
   "cell_type": "code",
   "execution_count": null,
   "id": "eafae3ff-7a35-4ad5-ac60-31d158a06bc3",
   "metadata": {},
   "outputs": [],
   "source": []
  },
  {
   "cell_type": "code",
   "execution_count": null,
   "id": "8c92a70e-6870-4666-9a66-41fde83a16ae",
   "metadata": {},
   "outputs": [],
   "source": []
  },
  {
   "cell_type": "code",
   "execution_count": null,
   "id": "12683d39-beea-4783-9ca0-64920ae83be3",
   "metadata": {},
   "outputs": [],
   "source": []
  },
  {
   "cell_type": "code",
   "execution_count": null,
   "id": "a112fd5e-133d-4e08-97a2-23b4d9e04ac0",
   "metadata": {},
   "outputs": [],
   "source": []
  }
 ],
 "metadata": {
  "kernelspec": {
   "display_name": "Python 3 (ipykernel)",
   "language": "python",
   "name": "python3"
  },
  "language_info": {
   "codemirror_mode": {
    "name": "ipython",
    "version": 3
   },
   "file_extension": ".py",
   "mimetype": "text/x-python",
   "name": "python",
   "nbconvert_exporter": "python",
   "pygments_lexer": "ipython3",
   "version": "3.10.6"
  }
 },
 "nbformat": 4,
 "nbformat_minor": 5
}
